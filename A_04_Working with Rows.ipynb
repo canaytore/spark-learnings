{
 "cells": [
  {
   "cell_type": "markdown",
   "id": "df4603c4",
   "metadata": {},
   "source": [
    "-- Notepad to myself --"
   ]
  },
  {
   "cell_type": "markdown",
   "id": "6d72415c",
   "metadata": {},
   "source": [
    "# Working with Rows"
   ]
  },
  {
   "cell_type": "code",
   "execution_count": 1,
   "id": "342886e7",
   "metadata": {},
   "outputs": [],
   "source": [
    "from pyspark.sql import SparkSession\n",
    "spark = SparkSession.builder.getOrCreate() "
   ]
  },
  {
   "cell_type": "code",
   "execution_count": 2,
   "id": "a58d38ae",
   "metadata": {},
   "outputs": [
    {
     "name": "stdout",
     "output_type": "stream",
     "text": [
      "root\n",
      " |-- ID: integer (nullable = true)\n",
      " |-- Case Number: string (nullable = true)\n",
      " |-- Date: timestamp (nullable = true)\n",
      " |-- Block: string (nullable = true)\n",
      " |-- IUCR: string (nullable = true)\n",
      " |-- Primary Type: string (nullable = true)\n",
      " |-- Description: string (nullable = true)\n",
      " |-- Location Description: string (nullable = true)\n",
      " |-- Arrest: boolean (nullable = true)\n",
      " |-- Domestic: boolean (nullable = true)\n",
      " |-- Beat: integer (nullable = true)\n",
      " |-- District: integer (nullable = true)\n",
      " |-- Ward: integer (nullable = true)\n",
      " |-- Community Area: integer (nullable = true)\n",
      " |-- FBI Code: string (nullable = true)\n",
      " |-- X Coordinate: integer (nullable = true)\n",
      " |-- Y Coordinate: integer (nullable = true)\n",
      " |-- Year: integer (nullable = true)\n",
      " |-- Updated On: string (nullable = true)\n",
      " |-- Latitude: double (nullable = true)\n",
      " |-- Longitude: double (nullable = true)\n",
      " |-- Location: string (nullable = true)\n",
      "\n"
     ]
    }
   ],
   "source": [
    "from pyspark.sql.functions import to_timestamp, col\n",
    "df = spark.read.csv('data/Crimes-2021.csv', header=True, inferSchema=True) \\\n",
    "    .withColumn('Date', to_timestamp(col('Date'), 'MM/dd/yyyy hh:mm:ss a'))\n",
    "df.printSchema()"
   ]
  },
  {
   "cell_type": "markdown",
   "id": "310fe130",
   "metadata": {},
   "source": [
    "### 1. Filtering Rows in PySpark"
   ]
  },
  {
   "cell_type": "markdown",
   "id": "89f58cb7",
   "metadata": {},
   "source": [
    "We can filter rows based on certain conditions, so in PySpark we specify the DataFrame.filter() and then we specify the condition that we're looking to filter by. In pandas it's very similar, where you just specify the DataFrame.column() within square brackets of the Dataframe."
   ]
  },
  {
   "cell_type": "code",
   "execution_count": 10,
   "id": "ce1d7296",
   "metadata": {},
   "outputs": [
    {
     "data": {
      "text/plain": [
       "[Row(ID=12343475, Case Number='JE202728', Date=datetime.datetime(2021, 4, 16, 20, 45), Block='056XX N RIDGE AVE', IUCR='0820', Primary Type='THEFT', Description='$500 AND UNDER', Location Description='OTHER (SPECIFY)', Arrest=False, Domestic=False, Beat=2013, District=20, Ward=48, Community Area=77, FBI Code='06', X Coordinate=None, Y Coordinate=None, Year=2021, Updated On='04/23/2021 04:51:47 PM', Latitude=None, Longitude=None, Location=None)]"
      ]
     },
     "execution_count": 10,
     "metadata": {},
     "output_type": "execute_result"
    }
   ],
   "source": [
    "df.filter(col('ID') == 12343475).take(1)"
   ]
  },
  {
   "cell_type": "markdown",
   "id": "907dea45",
   "metadata": {},
   "source": [
    "### 1. Filtering Rows in pandas"
   ]
  },
  {
   "cell_type": "code",
   "execution_count": null,
   "id": "a30ade39",
   "metadata": {},
   "outputs": [],
   "source": [
    "import pandas as pd\n",
    "df2 = df.toPandas()"
   ]
  },
  {
   "cell_type": "code",
   "execution_count": 11,
   "id": "6490e61f",
   "metadata": {},
   "outputs": [
    {
     "data": {
      "text/html": [
       "<div>\n",
       "<style scoped>\n",
       "    .dataframe tbody tr th:only-of-type {\n",
       "        vertical-align: middle;\n",
       "    }\n",
       "\n",
       "    .dataframe tbody tr th {\n",
       "        vertical-align: top;\n",
       "    }\n",
       "\n",
       "    .dataframe thead th {\n",
       "        text-align: right;\n",
       "    }\n",
       "</style>\n",
       "<table border=\"1\" class=\"dataframe\">\n",
       "  <thead>\n",
       "    <tr style=\"text-align: right;\">\n",
       "      <th></th>\n",
       "      <th>ID</th>\n",
       "      <th>Case Number</th>\n",
       "      <th>Date</th>\n",
       "      <th>Block</th>\n",
       "      <th>IUCR</th>\n",
       "      <th>Primary Type</th>\n",
       "      <th>Description</th>\n",
       "      <th>Location Description</th>\n",
       "      <th>Arrest</th>\n",
       "      <th>Domestic</th>\n",
       "      <th>...</th>\n",
       "      <th>Ward</th>\n",
       "      <th>Community Area</th>\n",
       "      <th>FBI Code</th>\n",
       "      <th>X Coordinate</th>\n",
       "      <th>Y Coordinate</th>\n",
       "      <th>Year</th>\n",
       "      <th>Updated On</th>\n",
       "      <th>Latitude</th>\n",
       "      <th>Longitude</th>\n",
       "      <th>Location</th>\n",
       "    </tr>\n",
       "  </thead>\n",
       "  <tbody>\n",
       "    <tr>\n",
       "      <th>0</th>\n",
       "      <td>12343475</td>\n",
       "      <td>JE202728</td>\n",
       "      <td>2021-04-16 20:45:00</td>\n",
       "      <td>056XX N RIDGE AVE</td>\n",
       "      <td>0820</td>\n",
       "      <td>THEFT</td>\n",
       "      <td>$500 AND UNDER</td>\n",
       "      <td>OTHER (SPECIFY)</td>\n",
       "      <td>False</td>\n",
       "      <td>False</td>\n",
       "      <td>...</td>\n",
       "      <td>48.0</td>\n",
       "      <td>77</td>\n",
       "      <td>06</td>\n",
       "      <td>NaN</td>\n",
       "      <td>NaN</td>\n",
       "      <td>2021</td>\n",
       "      <td>04/23/2021 04:51:47 PM</td>\n",
       "      <td>NaN</td>\n",
       "      <td>NaN</td>\n",
       "      <td>None</td>\n",
       "    </tr>\n",
       "  </tbody>\n",
       "</table>\n",
       "<p>1 rows × 22 columns</p>\n",
       "</div>"
      ],
      "text/plain": [
       "         ID Case Number                Date              Block  IUCR  \\\n",
       "0  12343475    JE202728 2021-04-16 20:45:00  056XX N RIDGE AVE  0820   \n",
       "\n",
       "  Primary Type     Description Location Description  Arrest  Domestic  ...  \\\n",
       "0        THEFT  $500 AND UNDER      OTHER (SPECIFY)   False     False  ...   \n",
       "\n",
       "   Ward  Community Area  FBI Code  X Coordinate Y Coordinate  Year  \\\n",
       "0  48.0              77        06           NaN          NaN  2021   \n",
       "\n",
       "               Updated On  Latitude Longitude  Location  \n",
       "0  04/23/2021 04:51:47 PM       NaN       NaN      None  \n",
       "\n",
       "[1 rows x 22 columns]"
      ]
     },
     "execution_count": 11,
     "metadata": {},
     "output_type": "execute_result"
    }
   ],
   "source": [
    "df2[df2.ID == 12343475]"
   ]
  },
  {
   "cell_type": "markdown",
   "id": "b92a2c23",
   "metadata": {},
   "source": [
    "### 2. Get Unique Rows in PySpark"
   ]
  },
  {
   "cell_type": "code",
   "execution_count": 12,
   "id": "3376d938",
   "metadata": {},
   "outputs": [
    {
     "name": "stdout",
     "output_type": "stream",
     "text": [
      "+----+\n",
      "|IUCR|\n",
      "+----+\n",
      "|1090|\n",
      "|1512|\n",
      "|0558|\n",
      "|0895|\n",
      "|0461|\n",
      "+----+\n",
      "only showing top 5 rows\n",
      "\n"
     ]
    }
   ],
   "source": [
    "df.select('IUCR').distinct().show(5)"
   ]
  },
  {
   "cell_type": "markdown",
   "id": "8f4b8e56",
   "metadata": {},
   "source": [
    "### 2. Get Unique Rows in pandas"
   ]
  },
  {
   "cell_type": "code",
   "execution_count": 28,
   "id": "26b32a92",
   "metadata": {},
   "outputs": [
    {
     "data": {
      "text/plain": [
       "array(['0820', '500E', '1752', '0850', '0486'], dtype=object)"
      ]
     },
     "execution_count": 28,
     "metadata": {},
     "output_type": "execute_result"
    }
   ],
   "source": [
    "df2.IUCR.unique()[:5]"
   ]
  },
  {
   "cell_type": "markdown",
   "id": "eabe0ec3",
   "metadata": {},
   "source": [
    "### 3. Sort Rows in PySpark"
   ]
  },
  {
   "cell_type": "markdown",
   "id": "f65a2d11",
   "metadata": {},
   "source": [
    "Now sorting is a very important function and in PySpark we use orderBy. In pandas we would've used the sort_values() function and we provided the column name. "
   ]
  },
  {
   "cell_type": "code",
   "execution_count": 31,
   "id": "757b6255",
   "metadata": {},
   "outputs": [
    {
     "name": "stdout",
     "output_type": "stream",
     "text": [
      "+--------+\n",
      "|      ID|\n",
      "+--------+\n",
      "|12847891|\n",
      "|12847621|\n",
      "|12847574|\n",
      "|12847342|\n",
      "|12846733|\n",
      "+--------+\n",
      "only showing top 5 rows\n",
      "\n"
     ]
    }
   ],
   "source": [
    "df.orderBy(col('ID'), ascending=False).select('ID').show(5)"
   ]
  },
  {
   "cell_type": "markdown",
   "id": "04f3bf21",
   "metadata": {},
   "source": [
    "### 3. Sort Rows in pandas"
   ]
  },
  {
   "cell_type": "code",
   "execution_count": 32,
   "id": "8f379606",
   "metadata": {},
   "outputs": [
    {
     "data": {
      "text/plain": [
       "195268    12847891\n",
       "195236    12847621\n",
       "195241    12847574\n",
       "195247    12847342\n",
       "207847    12846733\n",
       "Name: ID, dtype: int32"
      ]
     },
     "execution_count": 32,
     "metadata": {},
     "output_type": "execute_result"
    }
   ],
   "source": [
    "df2.ID.sort_values(ascending=False).head(5)"
   ]
  },
  {
   "cell_type": "code",
   "execution_count": 33,
   "id": "5c7b2488",
   "metadata": {},
   "outputs": [
    {
     "data": {
      "text/plain": [
       "195268    12847891\n",
       "195236    12847621\n",
       "195241    12847574\n",
       "195247    12847342\n",
       "207847    12846733\n",
       "Name: ID, dtype: int32"
      ]
     },
     "execution_count": 33,
     "metadata": {},
     "output_type": "execute_result"
    }
   ],
   "source": [
    "df2['ID'].sort_values(ascending=False).head(5)"
   ]
  },
  {
   "cell_type": "markdown",
   "id": "7c22a8b2",
   "metadata": {},
   "source": [
    "### 4. Append Rows in PySpark"
   ]
  },
  {
   "cell_type": "markdown",
   "id": "97f9e543",
   "metadata": {},
   "source": [
    "Since DataFrames are immutable we cannot just add to the DataFrame. Instead what we could do is union the original DataFrame with a new one. This concatenates two DataFrames and we need to make sure that both DataFrames have the same number of columns and the same Schema. Otherwise the union will fail. In pandas we would've used the concat() function. "
   ]
  },
  {
   "cell_type": "code",
   "execution_count": 42,
   "id": "66e90dbd",
   "metadata": {},
   "outputs": [
    {
     "name": "stdout",
     "output_type": "stream",
     "text": [
      "+--------+-----------+-------------------+--------------------+----+--------------------+--------------------+--------------------+------+--------+----+--------+----+--------------+--------+------------+------------+----+--------------------+------------+-------------+--------------------+\n",
      "|      ID|Case Number|               Date|               Block|IUCR|        Primary Type|         Description|Location Description|Arrest|Domestic|Beat|District|Ward|Community Area|FBI Code|X Coordinate|Y Coordinate|Year|          Updated On|    Latitude|    Longitude|            Location|\n",
      "+--------+-----------+-------------------+--------------------+----+--------------------+--------------------+--------------------+------+--------+----+--------+----+--------------+--------+------------+------------+----+--------------------+------------+-------------+--------------------+\n",
      "|12343475|   JE202728|2021-04-16 20:45:00|   056XX N RIDGE AVE|0820|               THEFT|      $500 AND UNDER|     OTHER (SPECIFY)| false|   false|2013|      20|  48|            77|      06|        null|        null|2021|04/23/2021 04:51:...|        null|         null|                null|\n",
      "|12602803|   JF125633|2021-10-21 11:00:00|083XX S STONY ISL...|500E|       OTHER OFFENSE|       EAVESDROPPING|     OTHER (SPECIFY)| false|   false| 412|       4|   8|            45|      26|     1188260|     1849805|2021|02/27/2022 03:46:...| 41.74294124|-87.585783412|(41.74294124, -87...|\n",
      "|12565821|   JE475344|2021-12-11 20:00:00|      077XX S MAY ST|1752|OFFENSE INVOLVING...|AGGRAVATED CRIMIN...|           RESIDENCE| false|    true| 612|       6|  17|            71|      17|     1169996|     1853419|2021|09/27/2022 04:46:...|41.753274445|-87.652598299|(41.753274445, -8...|\n",
      "|12540388|   JE444591|2021-11-14 06:00:00|086XX S COTTAGE G...|0850|               THEFT|       ATTEMPT THEFT|   CONVENIENCE STORE| false|   false| 632|       6|   6|            44|      06|     1183071|     1847869|2021|11/21/2021 03:48:...|41.737750767|-87.604855911|(41.737750767, -8...|\n",
      "|12541139|   JE445494|2021-11-14 04:00:00|     034XX W 38TH ST|0486|             BATTERY|DOMESTIC BATTERY ...|           RESIDENCE| false|    true| 911|       9|  12|            58|     08B|     1154073|     1879187|2021|11/21/2021 03:48:...|41.824316537|-87.710266215|(41.824316537, -8...|\n",
      "+--------+-----------+-------------------+--------------------+----+--------------------+--------------------+--------------------+------+--------+----+--------+----+--------------+--------+------------+------------+----+--------------------+------------+-------------+--------------------+\n",
      "\n"
     ]
    }
   ],
   "source": [
    "df3 = df.limit(5)\n",
    "df3.show()"
   ]
  },
  {
   "cell_type": "code",
   "execution_count": 46,
   "id": "5b02355c",
   "metadata": {},
   "outputs": [
    {
     "name": "stdout",
     "output_type": "stream",
     "text": [
      "+--------+\n",
      "|      ID|\n",
      "+--------+\n",
      "|12343475|\n",
      "|12602803|\n",
      "|12565821|\n",
      "|12540388|\n",
      "|12541139|\n",
      "+--------+\n",
      "\n"
     ]
    }
   ],
   "source": [
    "df3.select('ID').show()"
   ]
  },
  {
   "cell_type": "code",
   "execution_count": 47,
   "id": "dd3726e6",
   "metadata": {},
   "outputs": [
    {
     "data": {
      "text/plain": [
       "[Row(ID=12845432),\n",
       " Row(ID=12845249),\n",
       " Row(ID=12846092),\n",
       " Row(ID=12841050),\n",
       " Row(ID=12839669),\n",
       " Row(ID=12343475),\n",
       " Row(ID=12602803),\n",
       " Row(ID=12565821),\n",
       " Row(ID=12540388),\n",
       " Row(ID=12541139)]"
      ]
     },
     "execution_count": 47,
     "metadata": {},
     "output_type": "execute_result"
    }
   ],
   "source": [
    "df.union(df3).select('ID').tail(10)"
   ]
  },
  {
   "cell_type": "markdown",
   "id": "5b9b85ab",
   "metadata": {},
   "source": [
    "### 4. Append Rows in pandas"
   ]
  },
  {
   "cell_type": "code",
   "execution_count": 52,
   "id": "b74d6cba",
   "metadata": {},
   "outputs": [
    {
     "data": {
      "text/html": [
       "<div>\n",
       "<style scoped>\n",
       "    .dataframe tbody tr th:only-of-type {\n",
       "        vertical-align: middle;\n",
       "    }\n",
       "\n",
       "    .dataframe tbody tr th {\n",
       "        vertical-align: top;\n",
       "    }\n",
       "\n",
       "    .dataframe thead th {\n",
       "        text-align: right;\n",
       "    }\n",
       "</style>\n",
       "<table border=\"1\" class=\"dataframe\">\n",
       "  <thead>\n",
       "    <tr style=\"text-align: right;\">\n",
       "      <th></th>\n",
       "      <th>ID</th>\n",
       "      <th>Case Number</th>\n",
       "      <th>Date</th>\n",
       "      <th>Block</th>\n",
       "      <th>IUCR</th>\n",
       "      <th>Primary Type</th>\n",
       "      <th>Description</th>\n",
       "      <th>Location Description</th>\n",
       "      <th>Arrest</th>\n",
       "      <th>Domestic</th>\n",
       "      <th>...</th>\n",
       "      <th>Ward</th>\n",
       "      <th>Community Area</th>\n",
       "      <th>FBI Code</th>\n",
       "      <th>X Coordinate</th>\n",
       "      <th>Y Coordinate</th>\n",
       "      <th>Year</th>\n",
       "      <th>Updated On</th>\n",
       "      <th>Latitude</th>\n",
       "      <th>Longitude</th>\n",
       "      <th>Location</th>\n",
       "    </tr>\n",
       "  </thead>\n",
       "  <tbody>\n",
       "    <tr>\n",
       "      <th>0</th>\n",
       "      <td>12343475</td>\n",
       "      <td>JE202728</td>\n",
       "      <td>2021-04-16 20:45:00</td>\n",
       "      <td>056XX N RIDGE AVE</td>\n",
       "      <td>0820</td>\n",
       "      <td>THEFT</td>\n",
       "      <td>$500 AND UNDER</td>\n",
       "      <td>OTHER (SPECIFY)</td>\n",
       "      <td>False</td>\n",
       "      <td>False</td>\n",
       "      <td>...</td>\n",
       "      <td>48.0</td>\n",
       "      <td>77</td>\n",
       "      <td>06</td>\n",
       "      <td>NaN</td>\n",
       "      <td>NaN</td>\n",
       "      <td>2021</td>\n",
       "      <td>04/23/2021 04:51:47 PM</td>\n",
       "      <td>NaN</td>\n",
       "      <td>NaN</td>\n",
       "      <td>None</td>\n",
       "    </tr>\n",
       "    <tr>\n",
       "      <th>1</th>\n",
       "      <td>12602803</td>\n",
       "      <td>JF125633</td>\n",
       "      <td>2021-10-21 11:00:00</td>\n",
       "      <td>083XX S STONY ISLAND AVE</td>\n",
       "      <td>500E</td>\n",
       "      <td>OTHER OFFENSE</td>\n",
       "      <td>EAVESDROPPING</td>\n",
       "      <td>OTHER (SPECIFY)</td>\n",
       "      <td>False</td>\n",
       "      <td>False</td>\n",
       "      <td>...</td>\n",
       "      <td>8.0</td>\n",
       "      <td>45</td>\n",
       "      <td>26</td>\n",
       "      <td>1188260.0</td>\n",
       "      <td>1849805.0</td>\n",
       "      <td>2021</td>\n",
       "      <td>02/27/2022 03:46:31 PM</td>\n",
       "      <td>41.742941</td>\n",
       "      <td>-87.585783</td>\n",
       "      <td>(41.74294124, -87.585783412)</td>\n",
       "    </tr>\n",
       "    <tr>\n",
       "      <th>2</th>\n",
       "      <td>12565821</td>\n",
       "      <td>JE475344</td>\n",
       "      <td>2021-12-11 20:00:00</td>\n",
       "      <td>077XX S MAY ST</td>\n",
       "      <td>1752</td>\n",
       "      <td>OFFENSE INVOLVING CHILDREN</td>\n",
       "      <td>AGGRAVATED CRIMINAL SEXUAL ABUSE BY FAMILY MEMBER</td>\n",
       "      <td>RESIDENCE</td>\n",
       "      <td>False</td>\n",
       "      <td>True</td>\n",
       "      <td>...</td>\n",
       "      <td>17.0</td>\n",
       "      <td>71</td>\n",
       "      <td>17</td>\n",
       "      <td>1169996.0</td>\n",
       "      <td>1853419.0</td>\n",
       "      <td>2021</td>\n",
       "      <td>09/27/2022 04:46:33 PM</td>\n",
       "      <td>41.753274</td>\n",
       "      <td>-87.652598</td>\n",
       "      <td>(41.753274445, -87.652598299)</td>\n",
       "    </tr>\n",
       "    <tr>\n",
       "      <th>3</th>\n",
       "      <td>12540388</td>\n",
       "      <td>JE444591</td>\n",
       "      <td>2021-11-14 06:00:00</td>\n",
       "      <td>086XX S COTTAGE GROVE AVE</td>\n",
       "      <td>0850</td>\n",
       "      <td>THEFT</td>\n",
       "      <td>ATTEMPT THEFT</td>\n",
       "      <td>CONVENIENCE STORE</td>\n",
       "      <td>False</td>\n",
       "      <td>False</td>\n",
       "      <td>...</td>\n",
       "      <td>6.0</td>\n",
       "      <td>44</td>\n",
       "      <td>06</td>\n",
       "      <td>1183071.0</td>\n",
       "      <td>1847869.0</td>\n",
       "      <td>2021</td>\n",
       "      <td>11/21/2021 03:48:03 PM</td>\n",
       "      <td>41.737751</td>\n",
       "      <td>-87.604856</td>\n",
       "      <td>(41.737750767, -87.604855911)</td>\n",
       "    </tr>\n",
       "    <tr>\n",
       "      <th>4</th>\n",
       "      <td>12541139</td>\n",
       "      <td>JE445494</td>\n",
       "      <td>2021-11-14 04:00:00</td>\n",
       "      <td>034XX W 38TH ST</td>\n",
       "      <td>0486</td>\n",
       "      <td>BATTERY</td>\n",
       "      <td>DOMESTIC BATTERY SIMPLE</td>\n",
       "      <td>RESIDENCE</td>\n",
       "      <td>False</td>\n",
       "      <td>True</td>\n",
       "      <td>...</td>\n",
       "      <td>12.0</td>\n",
       "      <td>58</td>\n",
       "      <td>08B</td>\n",
       "      <td>1154073.0</td>\n",
       "      <td>1879187.0</td>\n",
       "      <td>2021</td>\n",
       "      <td>11/21/2021 03:48:03 PM</td>\n",
       "      <td>41.824317</td>\n",
       "      <td>-87.710266</td>\n",
       "      <td>(41.824316537, -87.710266215)</td>\n",
       "    </tr>\n",
       "  </tbody>\n",
       "</table>\n",
       "<p>5 rows × 22 columns</p>\n",
       "</div>"
      ],
      "text/plain": [
       "         ID Case Number                Date                      Block  IUCR  \\\n",
       "0  12343475    JE202728 2021-04-16 20:45:00          056XX N RIDGE AVE  0820   \n",
       "1  12602803    JF125633 2021-10-21 11:00:00   083XX S STONY ISLAND AVE  500E   \n",
       "2  12565821    JE475344 2021-12-11 20:00:00             077XX S MAY ST  1752   \n",
       "3  12540388    JE444591 2021-11-14 06:00:00  086XX S COTTAGE GROVE AVE  0850   \n",
       "4  12541139    JE445494 2021-11-14 04:00:00            034XX W 38TH ST  0486   \n",
       "\n",
       "                 Primary Type  \\\n",
       "0                       THEFT   \n",
       "1               OTHER OFFENSE   \n",
       "2  OFFENSE INVOLVING CHILDREN   \n",
       "3                       THEFT   \n",
       "4                     BATTERY   \n",
       "\n",
       "                                         Description Location Description  \\\n",
       "0                                     $500 AND UNDER      OTHER (SPECIFY)   \n",
       "1                                      EAVESDROPPING      OTHER (SPECIFY)   \n",
       "2  AGGRAVATED CRIMINAL SEXUAL ABUSE BY FAMILY MEMBER            RESIDENCE   \n",
       "3                                      ATTEMPT THEFT    CONVENIENCE STORE   \n",
       "4                            DOMESTIC BATTERY SIMPLE            RESIDENCE   \n",
       "\n",
       "   Arrest  Domestic  ...  Ward  Community Area  FBI Code  X Coordinate  \\\n",
       "0   False     False  ...  48.0              77        06           NaN   \n",
       "1   False     False  ...   8.0              45        26     1188260.0   \n",
       "2   False      True  ...  17.0              71        17     1169996.0   \n",
       "3   False     False  ...   6.0              44        06     1183071.0   \n",
       "4   False      True  ...  12.0              58       08B     1154073.0   \n",
       "\n",
       "  Y Coordinate  Year              Updated On   Latitude  Longitude  \\\n",
       "0          NaN  2021  04/23/2021 04:51:47 PM        NaN        NaN   \n",
       "1    1849805.0  2021  02/27/2022 03:46:31 PM  41.742941 -87.585783   \n",
       "2    1853419.0  2021  09/27/2022 04:46:33 PM  41.753274 -87.652598   \n",
       "3    1847869.0  2021  11/21/2021 03:48:03 PM  41.737751 -87.604856   \n",
       "4    1879187.0  2021  11/21/2021 03:48:03 PM  41.824317 -87.710266   \n",
       "\n",
       "                        Location  \n",
       "0                           None  \n",
       "1   (41.74294124, -87.585783412)  \n",
       "2  (41.753274445, -87.652598299)  \n",
       "3  (41.737750767, -87.604855911)  \n",
       "4  (41.824316537, -87.710266215)  \n",
       "\n",
       "[5 rows x 22 columns]"
      ]
     },
     "execution_count": 52,
     "metadata": {},
     "output_type": "execute_result"
    }
   ],
   "source": [
    "df4 = df2.head(5)\n",
    "df4"
   ]
  },
  {
   "cell_type": "code",
   "execution_count": 54,
   "id": "9367b75c",
   "metadata": {},
   "outputs": [
    {
     "data": {
      "text/plain": [
       "207874    12845432\n",
       "207875    12845249\n",
       "207876    12846092\n",
       "207877    12841050\n",
       "207878    12839669\n",
       "0         12343475\n",
       "1         12602803\n",
       "2         12565821\n",
       "3         12540388\n",
       "4         12541139\n",
       "Name: ID, dtype: int32"
      ]
     },
     "execution_count": 54,
     "metadata": {},
     "output_type": "execute_result"
    }
   ],
   "source": [
    "pd.concat([df2, df4]).ID.tail(10)"
   ]
  }
 ],
 "metadata": {
  "kernelspec": {
   "display_name": "Python 3 (ipykernel)",
   "language": "python",
   "name": "python3"
  },
  "language_info": {
   "codemirror_mode": {
    "name": "ipython",
    "version": 3
   },
   "file_extension": ".py",
   "mimetype": "text/x-python",
   "name": "python",
   "nbconvert_exporter": "python",
   "pygments_lexer": "ipython3",
   "version": "3.9.12"
  }
 },
 "nbformat": 4,
 "nbformat_minor": 5
}

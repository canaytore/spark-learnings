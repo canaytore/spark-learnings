{
 "cells": [
  {
   "cell_type": "markdown",
   "id": "b4fa6f8a",
   "metadata": {},
   "source": [
    "-- Notepad to myself --"
   ]
  },
  {
   "cell_type": "markdown",
   "id": "74aea0da",
   "metadata": {},
   "source": [
    "# Working with Joins"
   ]
  },
  {
   "cell_type": "code",
   "execution_count": 1,
   "id": "4b47ff57",
   "metadata": {},
   "outputs": [],
   "source": [
    "from pyspark.sql import SparkSession\n",
    "spark = SparkSession.builder.getOrCreate() "
   ]
  },
  {
   "cell_type": "code",
   "execution_count": 2,
   "id": "9d626284",
   "metadata": {},
   "outputs": [
    {
     "name": "stdout",
     "output_type": "stream",
     "text": [
      "root\n",
      " |-- ID: integer (nullable = true)\n",
      " |-- Case Number: string (nullable = true)\n",
      " |-- Date: timestamp (nullable = true)\n",
      " |-- Block: string (nullable = true)\n",
      " |-- IUCR: string (nullable = true)\n",
      " |-- Primary Type: string (nullable = true)\n",
      " |-- Description: string (nullable = true)\n",
      " |-- Location Description: string (nullable = true)\n",
      " |-- Arrest: boolean (nullable = true)\n",
      " |-- Domestic: boolean (nullable = true)\n",
      " |-- Beat: integer (nullable = true)\n",
      " |-- District: integer (nullable = true)\n",
      " |-- Ward: integer (nullable = true)\n",
      " |-- Community Area: integer (nullable = true)\n",
      " |-- FBI Code: string (nullable = true)\n",
      " |-- X Coordinate: integer (nullable = true)\n",
      " |-- Y Coordinate: integer (nullable = true)\n",
      " |-- Year: integer (nullable = true)\n",
      " |-- Updated On: string (nullable = true)\n",
      " |-- Latitude: double (nullable = true)\n",
      " |-- Longitude: double (nullable = true)\n",
      " |-- Location: string (nullable = true)\n",
      "\n"
     ]
    }
   ],
   "source": [
    "from pyspark.sql.functions import to_timestamp, col\n",
    "df = spark.read.csv('data/Crimes-2021.csv', header=True, inferSchema=True) \\\n",
    "    .withColumn('Date', to_timestamp(col('Date'), 'MM/dd/yyyy hh:mm:ss a'))\n",
    "df.printSchema()"
   ]
  },
  {
   "cell_type": "markdown",
   "id": "6e122d5f",
   "metadata": {},
   "source": [
    "Download the police station dataset from the same Chicago data portal as an additional dataframe -> https://data.cityofchicago.org/Public-Safety/Police-Stations/z8bn-74gv\n",
    "\n",
    "Notice that in the reported crimes dataset, we have the *district numbers*, but we don't have the *district names*. It just so happens that in the police station dataset, we have both the district numbers and the names. What we'll do then is to join the two tables together and then use the police station dataframe to look up the associated district number from our original report crimes dataframe."
   ]
  },
  {
   "cell_type": "code",
   "execution_count": 3,
   "id": "159c19f2",
   "metadata": {},
   "outputs": [
    {
     "name": "stdout",
     "output_type": "stream",
     "text": [
      "root\n",
      " |-- DISTRICT: string (nullable = true)\n",
      " |-- DISTRICT NAME: string (nullable = true)\n",
      " |-- ADDRESS: string (nullable = true)\n",
      " |-- CITY: string (nullable = true)\n",
      " |-- STATE: string (nullable = true)\n",
      " |-- ZIP: integer (nullable = true)\n",
      " |-- WEBSITE: string (nullable = true)\n",
      " |-- PHONE: string (nullable = true)\n",
      " |-- FAX: string (nullable = true)\n",
      " |-- TTY: string (nullable = true)\n",
      " |-- X COORDINATE: double (nullable = true)\n",
      " |-- Y COORDINATE: double (nullable = true)\n",
      " |-- LATITUDE: double (nullable = true)\n",
      " |-- LONGITUDE: double (nullable = true)\n",
      " |-- LOCATION: string (nullable = true)\n",
      "\n"
     ]
    }
   ],
   "source": [
    "ps = spark.read.csv('data/Police-Stations.csv', header=True, inferSchema=True)\n",
    "ps.printSchema()"
   ]
  },
  {
   "cell_type": "markdown",
   "id": "9f22e78a",
   "metadata": {},
   "source": [
    "The reported crimes dataset has only the *district number*. Add the *district name* by joining with the police station dataset"
   ]
  },
  {
   "cell_type": "code",
   "execution_count": 4,
   "id": "09990aed",
   "metadata": {},
   "outputs": [
    {
     "data": {
      "text/plain": [
       "207879"
      ]
     },
     "execution_count": 4,
     "metadata": {},
     "output_type": "execute_result"
    }
   ],
   "source": [
    "df.cache()\n",
    "df.count()"
   ]
  },
  {
   "cell_type": "code",
   "execution_count": 5,
   "id": "41842ad7",
   "metadata": {},
   "outputs": [
    {
     "name": "stdout",
     "output_type": "stream",
     "text": [
      "+--------+\n",
      "|DISTRICT|\n",
      "+--------+\n",
      "|       7|\n",
      "|      15|\n",
      "|      11|\n",
      "|       3|\n",
      "|       8|\n",
      "|      22|\n",
      "|      16|\n",
      "|       5|\n",
      "|      18|\n",
      "|      17|\n",
      "+--------+\n",
      "only showing top 10 rows\n",
      "\n"
     ]
    }
   ],
   "source": [
    "ps.select(col('DISTRICT')).distinct().show(10)"
   ]
  },
  {
   "cell_type": "code",
   "execution_count": 6,
   "id": "9323eae1",
   "metadata": {},
   "outputs": [
    {
     "name": "stdout",
     "output_type": "stream",
     "text": [
      "+--------+\n",
      "|District|\n",
      "+--------+\n",
      "|      31|\n",
      "|      12|\n",
      "|      22|\n",
      "|       1|\n",
      "|       6|\n",
      "|      16|\n",
      "|       3|\n",
      "|      20|\n",
      "|       5|\n",
      "|      19|\n",
      "+--------+\n",
      "only showing top 10 rows\n",
      "\n"
     ]
    }
   ],
   "source": [
    "df.select('District').distinct().show(10)"
   ]
  },
  {
   "cell_type": "markdown",
   "id": "0dac2e97",
   "metadata": {},
   "source": [
    "Joining two tables"
   ]
  },
  {
   "cell_type": "code",
   "execution_count": 7,
   "id": "f3c9bd9b",
   "metadata": {},
   "outputs": [
    {
     "name": "stdout",
     "output_type": "stream",
     "text": [
      "root\n",
      " |-- ID: integer (nullable = true)\n",
      " |-- Case Number: string (nullable = true)\n",
      " |-- Date: timestamp (nullable = true)\n",
      " |-- Block: string (nullable = true)\n",
      " |-- IUCR: string (nullable = true)\n",
      " |-- Primary Type: string (nullable = true)\n",
      " |-- Description: string (nullable = true)\n",
      " |-- Location Description: string (nullable = true)\n",
      " |-- Arrest: boolean (nullable = true)\n",
      " |-- Domestic: boolean (nullable = true)\n",
      " |-- Beat: integer (nullable = true)\n",
      " |-- District: integer (nullable = true)\n",
      " |-- Ward: integer (nullable = true)\n",
      " |-- Community Area: integer (nullable = true)\n",
      " |-- FBI Code: string (nullable = true)\n",
      " |-- X Coordinate: integer (nullable = true)\n",
      " |-- Y Coordinate: integer (nullable = true)\n",
      " |-- Year: integer (nullable = true)\n",
      " |-- Updated On: string (nullable = true)\n",
      " |-- Latitude: double (nullable = true)\n",
      " |-- Longitude: double (nullable = true)\n",
      " |-- Location: string (nullable = true)\n",
      " |-- DISTRICT: string (nullable = true)\n",
      " |-- DISTRICT NAME: string (nullable = true)\n",
      " |-- ADDRESS: string (nullable = true)\n",
      " |-- CITY: string (nullable = true)\n",
      " |-- STATE: string (nullable = true)\n",
      " |-- ZIP: integer (nullable = true)\n",
      " |-- WEBSITE: string (nullable = true)\n",
      " |-- PHONE: string (nullable = true)\n",
      " |-- FAX: string (nullable = true)\n",
      " |-- TTY: string (nullable = true)\n",
      " |-- X COORDINATE: double (nullable = true)\n",
      " |-- Y COORDINATE: double (nullable = true)\n",
      " |-- LATITUDE: double (nullable = true)\n",
      " |-- LONGITUDE: double (nullable = true)\n",
      " |-- LOCATION: string (nullable = true)\n",
      "\n"
     ]
    }
   ],
   "source": [
    "df.join(ps, df.District == ps.DISTRICT, 'left_outer').printSchema()"
   ]
  },
  {
   "cell_type": "code",
   "execution_count": 8,
   "id": "be54d4eb",
   "metadata": {},
   "outputs": [
    {
     "data": {
      "text/plain": [
       "['ID',\n",
       " 'Case Number',\n",
       " 'Date',\n",
       " 'Block',\n",
       " 'IUCR',\n",
       " 'Primary Type',\n",
       " 'Description',\n",
       " 'Location Description',\n",
       " 'Arrest',\n",
       " 'Domestic',\n",
       " 'Beat',\n",
       " 'District',\n",
       " 'Ward',\n",
       " 'Community Area',\n",
       " 'FBI Code',\n",
       " 'X Coordinate',\n",
       " 'Y Coordinate',\n",
       " 'Year',\n",
       " 'Updated On',\n",
       " 'Latitude',\n",
       " 'Longitude',\n",
       " 'Location']"
      ]
     },
     "execution_count": 8,
     "metadata": {},
     "output_type": "execute_result"
    }
   ],
   "source": [
    "df.columns"
   ]
  },
  {
   "cell_type": "code",
   "execution_count": 9,
   "id": "72085362",
   "metadata": {},
   "outputs": [
    {
     "data": {
      "text/plain": [
       "['DISTRICT',\n",
       " 'DISTRICT NAME',\n",
       " 'ADDRESS',\n",
       " 'CITY',\n",
       " 'STATE',\n",
       " 'ZIP',\n",
       " 'WEBSITE',\n",
       " 'PHONE',\n",
       " 'FAX',\n",
       " 'TTY',\n",
       " 'X COORDINATE',\n",
       " 'Y COORDINATE',\n",
       " 'LATITUDE',\n",
       " 'LONGITUDE',\n",
       " 'LOCATION']"
      ]
     },
     "execution_count": 9,
     "metadata": {},
     "output_type": "execute_result"
    }
   ],
   "source": [
    "ps.columns"
   ]
  },
  {
   "cell_type": "code",
   "execution_count": 10,
   "id": "45111aa8",
   "metadata": {},
   "outputs": [],
   "source": [
    "# drop arbitrary columns\n",
    "spark.conf.set('spark.sql.caseSensitive', True) # normally drop() is NOT case sensitive\n",
    "\n",
    "df_joined = df.join(ps, df.District == ps.DISTRICT, 'left_outer') \\\n",
    "    .drop('DISTRICT',\n",
    "          'ADDRESS',\n",
    "          'CITY',\n",
    "          'STATE',\n",
    "          'ZIP',\n",
    "          'WEBSITE',\n",
    "          'PHONE',\n",
    "          'FAX',\n",
    "          'TTY',\n",
    "          'X COORDINATE',\n",
    "          'Y COORDINATE',\n",
    "          'LATITUDE',\n",
    "          'LONGITUDE',\n",
    "          'LOCATION') \\\n",
    "    .withColumnRenamed('DISTRICT NAME', 'District Name')"
   ]
  },
  {
   "cell_type": "code",
   "execution_count": 11,
   "id": "5b1ce41d",
   "metadata": {},
   "outputs": [],
   "source": [
    "df_final = df_joined.select(sorted(df_joined.columns))"
   ]
  },
  {
   "cell_type": "code",
   "execution_count": 12,
   "id": "ef520045",
   "metadata": {},
   "outputs": [
    {
     "data": {
      "text/plain": [
       "['Arrest',\n",
       " 'Beat',\n",
       " 'Block',\n",
       " 'Case Number',\n",
       " 'Community Area',\n",
       " 'Date',\n",
       " 'Description',\n",
       " 'District',\n",
       " 'District Name',\n",
       " 'Domestic',\n",
       " 'FBI Code',\n",
       " 'ID',\n",
       " 'IUCR',\n",
       " 'Latitude',\n",
       " 'Location',\n",
       " 'Location Description',\n",
       " 'Longitude',\n",
       " 'Primary Type',\n",
       " 'Updated On',\n",
       " 'Ward',\n",
       " 'X Coordinate',\n",
       " 'Y Coordinate',\n",
       " 'Year']"
      ]
     },
     "execution_count": 12,
     "metadata": {},
     "output_type": "execute_result"
    }
   ],
   "source": [
    "df_final.columns"
   ]
  },
  {
   "cell_type": "code",
   "execution_count": 13,
   "id": "e9b14739",
   "metadata": {},
   "outputs": [
    {
     "name": "stdout",
     "output_type": "stream",
     "text": [
      "+--------+--------------+\n",
      "|District| District Name|\n",
      "+--------+--------------+\n",
      "|      31|          null|\n",
      "|      15|        Austin|\n",
      "|      22|   Morgan Park|\n",
      "|       2|     Wentworth|\n",
      "|       1|       Central|\n",
      "|       6|       Gresham|\n",
      "|      11|      Harrison|\n",
      "|      12|     Near West|\n",
      "|       5|       Calumet|\n",
      "|      14|   Shakespeare|\n",
      "|      18|    Near North|\n",
      "|      17|   Albany Park|\n",
      "|       8|  Chicago Lawn|\n",
      "|      19|     Town Hall|\n",
      "|       7|     Englewood|\n",
      "|      24|   Rogers Park|\n",
      "|       4| South Chicago|\n",
      "|      25| Grand Central|\n",
      "|       9|       Deering|\n",
      "|      10|         Ogden|\n",
      "|       3|Grand Crossing|\n",
      "|      20|       Lincoln|\n",
      "|      16|Jefferson Park|\n",
      "+--------+--------------+\n",
      "\n"
     ]
    }
   ],
   "source": [
    "df_final.select('District', 'District Name').distinct().show(100)"
   ]
  },
  {
   "cell_type": "markdown",
   "id": "88908289",
   "metadata": {},
   "source": [
    "'District 31' is missing in Police Station dataset."
   ]
  }
 ],
 "metadata": {
  "kernelspec": {
   "display_name": "Python 3 (ipykernel)",
   "language": "python",
   "name": "python3"
  },
  "language_info": {
   "codemirror_mode": {
    "name": "ipython",
    "version": 3
   },
   "file_extension": ".py",
   "mimetype": "text/x-python",
   "name": "python",
   "nbconvert_exporter": "python",
   "pygments_lexer": "ipython3",
   "version": "3.9.12"
  }
 },
 "nbformat": 4,
 "nbformat_minor": 5
}

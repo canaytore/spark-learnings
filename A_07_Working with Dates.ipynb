{
 "cells": [
  {
   "cell_type": "markdown",
   "id": "05f6ba38",
   "metadata": {},
   "source": [
    "-- Notepad to myself --"
   ]
  },
  {
   "cell_type": "markdown",
   "id": "01581322",
   "metadata": {},
   "source": [
    "# Working with Dates"
   ]
  },
  {
   "cell_type": "code",
   "execution_count": 1,
   "id": "9babdc35",
   "metadata": {},
   "outputs": [],
   "source": [
    "from pyspark.sql import SparkSession\n",
    "spark = SparkSession.builder.getOrCreate() "
   ]
  },
  {
   "cell_type": "code",
   "execution_count": 2,
   "id": "88ba6915",
   "metadata": {},
   "outputs": [
    {
     "name": "stdout",
     "output_type": "stream",
     "text": [
      "root\n",
      " |-- ID: integer (nullable = true)\n",
      " |-- Case Number: string (nullable = true)\n",
      " |-- Date: timestamp (nullable = true)\n",
      " |-- Block: string (nullable = true)\n",
      " |-- IUCR: string (nullable = true)\n",
      " |-- Primary Type: string (nullable = true)\n",
      " |-- Description: string (nullable = true)\n",
      " |-- Location Description: string (nullable = true)\n",
      " |-- Arrest: boolean (nullable = true)\n",
      " |-- Domestic: boolean (nullable = true)\n",
      " |-- Beat: integer (nullable = true)\n",
      " |-- District: integer (nullable = true)\n",
      " |-- Ward: integer (nullable = true)\n",
      " |-- Community Area: integer (nullable = true)\n",
      " |-- FBI Code: string (nullable = true)\n",
      " |-- X Coordinate: integer (nullable = true)\n",
      " |-- Y Coordinate: integer (nullable = true)\n",
      " |-- Year: integer (nullable = true)\n",
      " |-- Updated On: string (nullable = true)\n",
      " |-- Latitude: double (nullable = true)\n",
      " |-- Longitude: double (nullable = true)\n",
      " |-- Location: string (nullable = true)\n",
      "\n"
     ]
    }
   ],
   "source": [
    "from pyspark.sql.functions import to_timestamp, col\n",
    "df = spark.read.csv('data/Crimes-2021.csv', header=True, inferSchema=True) \\\n",
    "    .withColumn('Date', to_timestamp(col('Date'), 'MM/dd/yyyy hh:mm:ss a'))\n",
    "df.printSchema()"
   ]
  },
  {
   "cell_type": "markdown",
   "id": "55181342",
   "metadata": {},
   "source": [
    "## Simple Date Formats\n",
    "\n",
    "Simple Date Formats -> https://docs.oracle.com/javase/7/docs/api/java/text/SimpleDateFormat.html \n",
    "\n",
    "or check -> https://spark.apache.org/docs/latest/sql-ref-datetime-pattern.html"
   ]
  },
  {
   "cell_type": "code",
   "execution_count": 3,
   "id": "66d152a9",
   "metadata": {},
   "outputs": [],
   "source": [
    "from pyspark.sql.functions import to_date, to_timestamp, lit"
   ]
  },
  {
   "cell_type": "code",
   "execution_count": 18,
   "id": "b54a60c7",
   "metadata": {},
   "outputs": [
    {
     "name": "stdout",
     "output_type": "stream",
     "text": [
      "+-------------------+----------------------------------+\n",
      "|Date               |to_date(Date, yyyy-MM-dd HH:mm:ss)|\n",
      "+-------------------+----------------------------------+\n",
      "|2021-04-16 20:45:00|2021-04-16                        |\n",
      "|2021-10-21 11:00:00|2021-10-21                        |\n",
      "|2021-12-11 20:00:00|2021-12-11                        |\n",
      "+-------------------+----------------------------------+\n",
      "only showing top 3 rows\n",
      "\n"
     ]
    }
   ],
   "source": [
    "df.select('Date',\n",
    "         to_date(col('Date'), 'yyyy-MM-dd HH:mm:ss')) \\\n",
    ".show(3, truncate=False)"
   ]
  },
  {
   "cell_type": "markdown",
   "id": "bb92f946",
   "metadata": {},
   "source": [
    "### \"2019-12-25 13:30:00\""
   ]
  },
  {
   "cell_type": "code",
   "execution_count": 4,
   "id": "b6b97827",
   "metadata": {},
   "outputs": [
    {
     "name": "stdout",
     "output_type": "stream",
     "text": [
      "+-------------------+\n",
      "|          Christmas|\n",
      "+-------------------+\n",
      "|2019-12-25 13:30:00|\n",
      "+-------------------+\n",
      "\n"
     ]
    }
   ],
   "source": [
    "date = spark.createDataFrame([('2019-12-25 13:30:00',)], ['Christmas'])\n",
    "date.show()"
   ]
  },
  {
   "cell_type": "code",
   "execution_count": 5,
   "id": "d51cc536",
   "metadata": {},
   "outputs": [
    {
     "name": "stdout",
     "output_type": "stream",
     "text": [
      "root\n",
      " |-- Christmas: string (nullable = true)\n",
      "\n"
     ]
    }
   ],
   "source": [
    "date.printSchema()"
   ]
  },
  {
   "cell_type": "code",
   "execution_count": 6,
   "id": "db0c01e7",
   "metadata": {},
   "outputs": [
    {
     "name": "stdout",
     "output_type": "stream",
     "text": [
      "+---------------------------------------+--------------------------------------------+\n",
      "|to_date(Christmas, yyyy-MM-dd HH:mm:ss)|to_timestamp(Christmas, yyyy-MM-dd HH:mm:ss)|\n",
      "+---------------------------------------+--------------------------------------------+\n",
      "|                             2019-12-25|                         2019-12-25 13:30:00|\n",
      "+---------------------------------------+--------------------------------------------+\n",
      "\n"
     ]
    }
   ],
   "source": [
    "date = date.select(to_date(col('Christmas'), 'yyyy-MM-dd HH:mm:ss'), \n",
    "                   to_timestamp(col('Christmas'), 'yyyy-MM-dd HH:mm:ss'))\n",
    "date.show()"
   ]
  },
  {
   "cell_type": "code",
   "execution_count": 7,
   "id": "7db9b666",
   "metadata": {},
   "outputs": [
    {
     "name": "stdout",
     "output_type": "stream",
     "text": [
      "root\n",
      " |-- to_date(Christmas, yyyy-MM-dd HH:mm:ss): date (nullable = true)\n",
      " |-- to_timestamp(Christmas, yyyy-MM-dd HH:mm:ss): timestamp (nullable = true)\n",
      "\n"
     ]
    }
   ],
   "source": [
    "date.printSchema()"
   ]
  },
  {
   "cell_type": "markdown",
   "id": "fd319805",
   "metadata": {},
   "source": [
    "### \"25/Dec/2019 13:30:00\""
   ]
  },
  {
   "cell_type": "code",
   "execution_count": 8,
   "id": "9dba6a35",
   "metadata": {},
   "outputs": [
    {
     "name": "stdout",
     "output_type": "stream",
     "text": [
      "+--------------------+\n",
      "|           Christmas|\n",
      "+--------------------+\n",
      "|25/Dec/2019 13:30:00|\n",
      "+--------------------+\n",
      "\n"
     ]
    }
   ],
   "source": [
    "date2 = spark.createDataFrame([('25/Dec/2019 13:30:00',)], ['Christmas'])\n",
    "date2.show()"
   ]
  },
  {
   "cell_type": "code",
   "execution_count": 9,
   "id": "8c2f5a57",
   "metadata": {},
   "outputs": [
    {
     "name": "stdout",
     "output_type": "stream",
     "text": [
      "root\n",
      " |-- Christmas: string (nullable = true)\n",
      "\n"
     ]
    }
   ],
   "source": [
    "date2.printSchema()"
   ]
  },
  {
   "cell_type": "code",
   "execution_count": 10,
   "id": "3e2b0532",
   "metadata": {},
   "outputs": [
    {
     "name": "stdout",
     "output_type": "stream",
     "text": [
      "+----------------------------------------+---------------------------------------------+\n",
      "|to_date(Christmas, dd/MMM/yyyy HH:mm:ss)|to_timestamp(Christmas, dd/MMM/yyyy HH:mm:ss)|\n",
      "+----------------------------------------+---------------------------------------------+\n",
      "|                              2019-12-25|                          2019-12-25 13:30:00|\n",
      "+----------------------------------------+---------------------------------------------+\n",
      "\n"
     ]
    }
   ],
   "source": [
    "date2 = date2.select(to_date(col('Christmas'), 'dd/MMM/yyyy HH:mm:ss'), \n",
    "                     to_timestamp(col('Christmas'), 'dd/MMM/yyyy HH:mm:ss'))\n",
    "date2.show()"
   ]
  },
  {
   "cell_type": "code",
   "execution_count": 11,
   "id": "1d6071c1",
   "metadata": {},
   "outputs": [
    {
     "name": "stdout",
     "output_type": "stream",
     "text": [
      "root\n",
      " |-- to_date(Christmas, dd/MMM/yyyy HH:mm:ss): date (nullable = true)\n",
      " |-- to_timestamp(Christmas, dd/MMM/yyyy HH:mm:ss): timestamp (nullable = true)\n",
      "\n"
     ]
    }
   ],
   "source": [
    "date2.printSchema()"
   ]
  },
  {
   "cell_type": "markdown",
   "id": "8b126a71",
   "metadata": {},
   "source": [
    "### \"12/25/2019 01:30:00 PM\""
   ]
  },
  {
   "cell_type": "code",
   "execution_count": 12,
   "id": "c44c627d",
   "metadata": {},
   "outputs": [
    {
     "name": "stdout",
     "output_type": "stream",
     "text": [
      "+----------------------+\n",
      "|Christmas             |\n",
      "+----------------------+\n",
      "|12/25/2019 01:30:00 PM|\n",
      "+----------------------+\n",
      "\n"
     ]
    }
   ],
   "source": [
    "date3 = spark.createDataFrame([('12/25/2019 01:30:00 PM',)], ['Christmas'])\n",
    "date3.show(truncate=False)"
   ]
  },
  {
   "cell_type": "code",
   "execution_count": 13,
   "id": "70b260a6",
   "metadata": {},
   "outputs": [
    {
     "name": "stdout",
     "output_type": "stream",
     "text": [
      "root\n",
      " |-- Christmas: string (nullable = true)\n",
      "\n"
     ]
    }
   ],
   "source": [
    "date3.printSchema()"
   ]
  },
  {
   "cell_type": "code",
   "execution_count": 14,
   "id": "0ede252b",
   "metadata": {},
   "outputs": [
    {
     "name": "stdout",
     "output_type": "stream",
     "text": [
      "+-----------------------------------------+----------------------------------------------+\n",
      "|to_date(Christmas, MM/dd/yyyy hh:mm:ss a)|to_timestamp(Christmas, MM/dd/yyyy hh:mm:ss a)|\n",
      "+-----------------------------------------+----------------------------------------------+\n",
      "|                               2019-12-25|                           2019-12-25 13:30:00|\n",
      "+-----------------------------------------+----------------------------------------------+\n",
      "\n"
     ]
    }
   ],
   "source": [
    "date3 = date3.select(to_date(col('Christmas'), 'MM/dd/yyyy hh:mm:ss a'), \n",
    "                     to_timestamp(col('Christmas'), 'MM/dd/yyyy hh:mm:ss a'))\n",
    "date3.show()"
   ]
  },
  {
   "cell_type": "code",
   "execution_count": 15,
   "id": "a315a9b6",
   "metadata": {},
   "outputs": [
    {
     "name": "stdout",
     "output_type": "stream",
     "text": [
      "root\n",
      " |-- to_date(Christmas, MM/dd/yyyy hh:mm:ss a): date (nullable = true)\n",
      " |-- to_timestamp(Christmas, MM/dd/yyyy hh:mm:ss a): timestamp (nullable = true)\n",
      "\n"
     ]
    }
   ],
   "source": [
    "date3.printSchema()"
   ]
  }
 ],
 "metadata": {
  "kernelspec": {
   "display_name": "Python 3 (ipykernel)",
   "language": "python",
   "name": "python3"
  },
  "language_info": {
   "codemirror_mode": {
    "name": "ipython",
    "version": 3
   },
   "file_extension": ".py",
   "mimetype": "text/x-python",
   "name": "python",
   "nbconvert_exporter": "python",
   "pygments_lexer": "ipython3",
   "version": "3.9.12"
  }
 },
 "nbformat": 4,
 "nbformat_minor": 5
}

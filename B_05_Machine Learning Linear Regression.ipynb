{
 "cells": [
  {
   "cell_type": "markdown",
   "id": "11f2a2f8",
   "metadata": {},
   "source": [
    "-- Notepad to myself --"
   ]
  },
  {
   "cell_type": "markdown",
   "id": "9770cad4",
   "metadata": {},
   "source": [
    "# Machine Learning with DataFrames"
   ]
  },
  {
   "cell_type": "code",
   "execution_count": 1,
   "id": "69d2b8d2",
   "metadata": {},
   "outputs": [],
   "source": [
    "from pyspark.sql import SparkSession\n",
    "spark = SparkSession.builder.getOrCreate()"
   ]
  },
  {
   "cell_type": "code",
   "execution_count": 2,
   "id": "581e4a54",
   "metadata": {},
   "outputs": [],
   "source": [
    "data_path = 'data/'"
   ]
  },
  {
   "cell_type": "code",
   "execution_count": 3,
   "id": "063f96a1",
   "metadata": {},
   "outputs": [],
   "source": [
    "df2_path = data_path + \"utilization.json\"\n",
    "df2 = spark.read.json(df2_path)"
   ]
  },
  {
   "cell_type": "code",
   "execution_count": null,
   "id": "9912088d",
   "metadata": {},
   "outputs": [],
   "source": [
    "#df2_csv_path = data_path + \"utilization.csv\"\n",
    "#df2 = spark.read.csv(df2_csv_path, header=True, inferSchema=True)"
   ]
  },
  {
   "cell_type": "code",
   "execution_count": 4,
   "id": "c396017b",
   "metadata": {},
   "outputs": [
    {
     "name": "stdout",
     "output_type": "stream",
     "text": [
      "+---------------+-------------------+-----------+---------+-------------+\n",
      "|cpu_utilization|event_datetime     |free_memory|server_id|session_count|\n",
      "+---------------+-------------------+-----------+---------+-------------+\n",
      "|0.57           |03/05/2019 08:06:14|0.51       |100      |47           |\n",
      "|0.47           |03/05/2019 08:11:14|0.62       |100      |43           |\n",
      "|0.56           |03/05/2019 08:16:14|0.57       |100      |62           |\n",
      "|0.57           |03/05/2019 08:21:14|0.56       |100      |50           |\n",
      "|0.35           |03/05/2019 08:26:14|0.46       |100      |43           |\n",
      "+---------------+-------------------+-----------+---------+-------------+\n",
      "only showing top 5 rows\n",
      "\n"
     ]
    }
   ],
   "source": [
    "df2.show(5, truncate=False)"
   ]
  },
  {
   "cell_type": "markdown",
   "id": "a59472ba",
   "metadata": {},
   "source": [
    "### ML - Linear Regression"
   ]
  },
  {
   "cell_type": "code",
   "execution_count": 6,
   "id": "977d4774",
   "metadata": {},
   "outputs": [],
   "source": [
    "from pyspark.ml.regression import LinearRegression\n",
    "from pyspark.ml.feature import VectorAssembler"
   ]
  },
  {
   "cell_type": "code",
   "execution_count": 11,
   "id": "00d02b9e",
   "metadata": {},
   "outputs": [
    {
     "name": "stdout",
     "output_type": "stream",
     "text": [
      "+---------------+-------------------+-----------+---------+-------------+-----------+\n",
      "|cpu_utilization|event_datetime     |free_memory|server_id|session_count|features   |\n",
      "+---------------+-------------------+-----------+---------+-------------+-----------+\n",
      "|0.57           |03/05/2019 08:06:14|0.51       |100      |47           |[0.57,0.51]|\n",
      "|0.47           |03/05/2019 08:11:14|0.62       |100      |43           |[0.47,0.62]|\n",
      "|0.56           |03/05/2019 08:16:14|0.57       |100      |62           |[0.56,0.57]|\n",
      "|0.57           |03/05/2019 08:21:14|0.56       |100      |50           |[0.57,0.56]|\n",
      "|0.35           |03/05/2019 08:26:14|0.46       |100      |43           |[0.35,0.46]|\n",
      "+---------------+-------------------+-----------+---------+-------------+-----------+\n",
      "only showing top 5 rows\n",
      "\n"
     ]
    }
   ],
   "source": [
    "vectorAssembler = VectorAssembler(inputCols=[\"cpu_utilization\", \"free_memory\"], outputCol=\"features\")\n",
    "df_vAss = vectorAssembler.transform(df2)\n",
    "df_vAss.show(5, truncate=False)"
   ]
  },
  {
   "cell_type": "code",
   "execution_count": 12,
   "id": "1d412db3",
   "metadata": {},
   "outputs": [],
   "source": [
    "lr = LinearRegression(featuresCol=\"features\", labelCol=\"session_count\")"
   ]
  },
  {
   "cell_type": "code",
   "execution_count": 13,
   "id": "37971a25",
   "metadata": {},
   "outputs": [],
   "source": [
    "lrModel = lr.fit(df_vAss)"
   ]
  },
  {
   "cell_type": "code",
   "execution_count": 14,
   "id": "91754603",
   "metadata": {},
   "outputs": [
    {
     "data": {
      "text/plain": [
       "DenseVector([32.0832, -31.8455])"
      ]
     },
     "execution_count": 14,
     "metadata": {},
     "output_type": "execute_result"
    }
   ],
   "source": [
    "lrModel.coefficients"
   ]
  },
  {
   "cell_type": "code",
   "execution_count": 15,
   "id": "64199311",
   "metadata": {},
   "outputs": [
    {
     "data": {
      "text/plain": [
       "61.76149951895695"
      ]
     },
     "execution_count": 15,
     "metadata": {},
     "output_type": "execute_result"
    }
   ],
   "source": [
    "lrModel.intercept"
   ]
  },
  {
   "cell_type": "code",
   "execution_count": 16,
   "id": "c99f24a5",
   "metadata": {},
   "outputs": [
    {
     "data": {
      "text/plain": [
       "12.042582333120842"
      ]
     },
     "execution_count": 16,
     "metadata": {},
     "output_type": "execute_result"
    }
   ],
   "source": [
    "lrModel.summary.rootMeanSquaredError"
   ]
  }
 ],
 "metadata": {
  "kernelspec": {
   "display_name": "Python 3 (ipykernel)",
   "language": "python",
   "name": "python3"
  },
  "language_info": {
   "codemirror_mode": {
    "name": "ipython",
    "version": 3
   },
   "file_extension": ".py",
   "mimetype": "text/x-python",
   "name": "python",
   "nbconvert_exporter": "python",
   "pygments_lexer": "ipython3",
   "version": "3.9.12"
  }
 },
 "nbformat": 4,
 "nbformat_minor": 5
}

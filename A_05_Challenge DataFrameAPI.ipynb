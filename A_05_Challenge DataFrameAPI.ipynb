{
 "cells": [
  {
   "cell_type": "markdown",
   "id": "df4603c4",
   "metadata": {},
   "source": [
    "-- Notepad to myself --"
   ]
  },
  {
   "cell_type": "markdown",
   "id": "6d72415c",
   "metadata": {},
   "source": [
    "# Challenge: DataFrame API"
   ]
  },
  {
   "cell_type": "code",
   "execution_count": 1,
   "id": "342886e7",
   "metadata": {},
   "outputs": [],
   "source": [
    "from pyspark.sql import SparkSession\n",
    "spark = SparkSession.builder.getOrCreate() "
   ]
  },
  {
   "cell_type": "code",
   "execution_count": 2,
   "id": "a58d38ae",
   "metadata": {},
   "outputs": [
    {
     "name": "stdout",
     "output_type": "stream",
     "text": [
      "root\n",
      " |-- ID: integer (nullable = true)\n",
      " |-- Case Number: string (nullable = true)\n",
      " |-- Date: timestamp (nullable = true)\n",
      " |-- Block: string (nullable = true)\n",
      " |-- IUCR: string (nullable = true)\n",
      " |-- Primary Type: string (nullable = true)\n",
      " |-- Description: string (nullable = true)\n",
      " |-- Location Description: string (nullable = true)\n",
      " |-- Arrest: boolean (nullable = true)\n",
      " |-- Domestic: boolean (nullable = true)\n",
      " |-- Beat: integer (nullable = true)\n",
      " |-- District: integer (nullable = true)\n",
      " |-- Ward: integer (nullable = true)\n",
      " |-- Community Area: integer (nullable = true)\n",
      " |-- FBI Code: string (nullable = true)\n",
      " |-- X Coordinate: integer (nullable = true)\n",
      " |-- Y Coordinate: integer (nullable = true)\n",
      " |-- Year: integer (nullable = true)\n",
      " |-- Updated On: string (nullable = true)\n",
      " |-- Latitude: double (nullable = true)\n",
      " |-- Longitude: double (nullable = true)\n",
      " |-- Location: string (nullable = true)\n",
      "\n"
     ]
    }
   ],
   "source": [
    "from pyspark.sql.functions import to_timestamp, col, lit\n",
    "df = spark.read.csv('data/Crimes-2021.csv', header=True, inferSchema=True) \\\n",
    "    .withColumn('Date', to_timestamp(col('Date'), 'MM/dd/yyyy hh:mm:ss a'))\n",
    "df.printSchema()"
   ]
  },
  {
   "cell_type": "markdown",
   "id": "a6d5bdbb",
   "metadata": {},
   "source": [
    "### 1. Add the reported crimes for an additional day, 12-Nov-2021, to our dataset"
   ]
  },
  {
   "cell_type": "code",
   "execution_count": 5,
   "id": "b8b5f326",
   "metadata": {},
   "outputs": [
    {
     "data": {
      "text/plain": [
       "17"
      ]
     },
     "execution_count": 5,
     "metadata": {},
     "output_type": "execute_result"
    }
   ],
   "source": [
    "crimes = df.filter(col('Date') == lit('2021-11-12'))\n",
    "crimes.count()"
   ]
  },
  {
   "cell_type": "code",
   "execution_count": 6,
   "id": "3f4bd171",
   "metadata": {},
   "outputs": [
    {
     "name": "stdout",
     "output_type": "stream",
     "text": [
      "+--------+-----------+-------------------+--------------------+----+--------------------+--------------------+--------------------+------+--------+----+--------+----+--------------+--------+------------+------------+----+--------------------+------------+-------------+--------------------+\n",
      "|      ID|Case Number|               Date|               Block|IUCR|        Primary Type|         Description|Location Description|Arrest|Domestic|Beat|District|Ward|Community Area|FBI Code|X Coordinate|Y Coordinate|Year|          Updated On|    Latitude|    Longitude|            Location|\n",
      "+--------+-----------+-------------------+--------------------+----+--------------------+--------------------+--------------------+------+--------+----+--------+----+--------------+--------+------------+------------+----+--------------------+------------+-------------+--------------------+\n",
      "|12609426|   JF133671|2021-12-31 23:59:00|     023XX W 64TH ST|0810|               THEFT|           OVER $500|SCHOOL - PUBLIC B...| false|   false| 825|       8|  16|            66|      06|        null|        null|2021|02/05/2022 03:51:...|        null|         null|                null|\n",
      "|12584710|   JF103542|2021-12-31 23:59:00|    006XX N STATE ST|2250|LIQUOR LAW VIOLATION|LIQUOR LICENSE VI...|       HOTEL / MOTEL|  true|   false|1832|      18|  42|             8|      22|     1176247|     1904872|2021|01/08/2022 03:45:...|41.894327846| -87.62814321|(41.894327846, -8...|\n",
      "|12581979|   JF100042|2021-12-31 23:58:00|082XX S MARQUETTE...|0650|            BURGLARY|       HOME INVASION|           APARTMENT| false|    true| 423|       4|   7|            46|      05|     1195601|     1850868|2021|01/07/2022 03:47:...|41.745680051|-87.558851198|(41.745680051, -8...|\n",
      "|12584234|   JF102969|2021-12-31 23:55:00|     087XX S WOOD ST|1310|     CRIMINAL DAMAGE|         TO PROPERTY|           RESIDENCE| false|   false|2221|      22|  21|            71|      14|     1165870|     1846697|2021|01/07/2022 03:47:...|41.734916889| -87.66790905|(41.734916889, -8...|\n",
      "|12581978|   JF100185|2021-12-31 23:50:00| 086XX S SAGINAW AVE|5002|       OTHER OFFENSE|OTHER VEHICLE OFF...|              STREET| false|    true| 423|       4|   7|            46|      26|     1195327|     1848103|2021|01/07/2022 03:47:...|41.738099428|-87.559946218|(41.738099428, -8...|\n",
      "+--------+-----------+-------------------+--------------------+----+--------------------+--------------------+--------------------+------+--------+----+--------+----+--------------+--------+------------+------------+----+--------------------+------------+-------------+--------------------+\n",
      "only showing top 5 rows\n",
      "\n"
     ]
    }
   ],
   "source": [
    "df.union(crimes).orderBy('Date', ascending=False).show(5)"
   ]
  },
  {
   "cell_type": "markdown",
   "id": "8d6b5f07",
   "metadata": {},
   "source": [
    "### 2. What are the top 10 number of reported crimes by Primary Type, in descending order of occurence?"
   ]
  },
  {
   "cell_type": "code",
   "execution_count": 7,
   "id": "b10ebfb7",
   "metadata": {},
   "outputs": [
    {
     "name": "stdout",
     "output_type": "stream",
     "text": [
      "+-------------------+-----+\n",
      "|       Primary Type|count|\n",
      "+-------------------+-----+\n",
      "|              THEFT|40749|\n",
      "|            BATTERY|40447|\n",
      "|    CRIMINAL DAMAGE|25090|\n",
      "|            ASSAULT|20333|\n",
      "| DECEPTIVE PRACTICE|16995|\n",
      "|      OTHER OFFENSE|13908|\n",
      "|MOTOR VEHICLE THEFT|10591|\n",
      "|  WEAPONS VIOLATION| 8969|\n",
      "|            ROBBERY| 7920|\n",
      "|           BURGLARY| 6655|\n",
      "+-------------------+-----+\n",
      "only showing top 10 rows\n",
      "\n"
     ]
    }
   ],
   "source": [
    "df.groupBy('Primary Type').count().orderBy('count', ascending=False).show(10)"
   ]
  },
  {
   "cell_type": "markdown",
   "id": "2a7c26bb",
   "metadata": {},
   "source": [
    "### 3. What percentage of reported crimes resulted in an arrest?"
   ]
  },
  {
   "cell_type": "code",
   "execution_count": 8,
   "id": "09964c2f",
   "metadata": {},
   "outputs": [
    {
     "name": "stdout",
     "output_type": "stream",
     "text": [
      "+------+\n",
      "|Arrest|\n",
      "+------+\n",
      "|  true|\n",
      "| false|\n",
      "+------+\n",
      "\n"
     ]
    }
   ],
   "source": [
    "df.select('Arrest').distinct().show()"
   ]
  },
  {
   "cell_type": "code",
   "execution_count": 10,
   "id": "331ee306",
   "metadata": {},
   "outputs": [
    {
     "data": {
      "text/plain": [
       "12.4307890647925"
      ]
     },
     "execution_count": 10,
     "metadata": {},
     "output_type": "execute_result"
    }
   ],
   "source": [
    "100 * df.filter(col('Arrest') == 'true').count() / df.select('Arrest').count()"
   ]
  },
  {
   "cell_type": "markdown",
   "id": "25c17271",
   "metadata": {},
   "source": [
    "### 4. What are the top 3 locations for reported crimes?"
   ]
  },
  {
   "cell_type": "code",
   "execution_count": 11,
   "id": "9228e851",
   "metadata": {},
   "outputs": [
    {
     "name": "stdout",
     "output_type": "stream",
     "text": [
      "+--------------------+-----+\n",
      "|Location Description|count|\n",
      "+--------------------+-----+\n",
      "|              STREET|52060|\n",
      "|           APARTMENT|44455|\n",
      "|           RESIDENCE|32036|\n",
      "+--------------------+-----+\n",
      "only showing top 3 rows\n",
      "\n"
     ]
    }
   ],
   "source": [
    "df.groupBy('Location Description').count().orderBy('count', ascending=False).show(3)"
   ]
  }
 ],
 "metadata": {
  "kernelspec": {
   "display_name": "Python 3 (ipykernel)",
   "language": "python",
   "name": "python3"
  },
  "language_info": {
   "codemirror_mode": {
    "name": "ipython",
    "version": 3
   },
   "file_extension": ".py",
   "mimetype": "text/x-python",
   "name": "python",
   "nbconvert_exporter": "python",
   "pygments_lexer": "ipython3",
   "version": "3.9.12"
  }
 },
 "nbformat": 4,
 "nbformat_minor": 5
}

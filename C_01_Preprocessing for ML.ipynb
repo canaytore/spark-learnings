{
 "cells": [
  {
   "cell_type": "markdown",
   "id": "50082624",
   "metadata": {},
   "source": [
    "-- Notepad to myself --"
   ]
  },
  {
   "cell_type": "markdown",
   "id": "342d677f",
   "metadata": {},
   "source": [
    "# Data Preparation and Transformation for ML"
   ]
  },
  {
   "cell_type": "markdown",
   "id": "ea705b3e",
   "metadata": {},
   "source": [
    "### Working with DataFrames"
   ]
  },
  {
   "cell_type": "code",
   "execution_count": 1,
   "id": "89d51618",
   "metadata": {},
   "outputs": [],
   "source": [
    "from pyspark.sql import SparkSession\n",
    "spark = SparkSession.builder.getOrCreate()"
   ]
  },
  {
   "cell_type": "markdown",
   "id": "c2ddb561",
   "metadata": {},
   "source": [
    "DataFrames are a table-like data structure, and they have named columns. DataFrames are widely used in R and in the Python-pandas library. They're also used in Spark and they're similar to what's available in most Python and in R."
   ]
  },
  {
   "cell_type": "code",
   "execution_count": 2,
   "id": "64ef57c4",
   "metadata": {},
   "outputs": [
    {
     "name": "stdout",
     "output_type": "stream",
     "text": [
      "root\n",
      " |-- id: integer (nullable = true)\n",
      " |-- last_name: string (nullable = true)\n",
      " |-- email: string (nullable = true)\n",
      " |-- gender: string (nullable = true)\n",
      " |-- department: string (nullable = true)\n",
      " |-- start_date: string (nullable = true)\n",
      " |-- salary: integer (nullable = true)\n",
      " |-- job_title: string (nullable = true)\n",
      " |-- region_id: integer (nullable = true)\n",
      "\n"
     ]
    }
   ],
   "source": [
    "emp_df = spark.read.csv(\"data/employee.txt\", header=True, inferSchema=True)\n",
    "emp_df.printSchema()"
   ]
  },
  {
   "cell_type": "code",
   "execution_count": 3,
   "id": "9d24f12e",
   "metadata": {},
   "outputs": [
    {
     "data": {
      "text/plain": [
       "['id',\n",
       " 'last_name',\n",
       " 'email',\n",
       " 'gender',\n",
       " 'department',\n",
       " 'start_date',\n",
       " 'salary',\n",
       " 'job_title',\n",
       " 'region_id']"
      ]
     },
     "execution_count": 3,
     "metadata": {},
     "output_type": "execute_result"
    }
   ],
   "source": [
    "emp_df.columns"
   ]
  },
  {
   "cell_type": "code",
   "execution_count": 4,
   "id": "ac6f7f22",
   "metadata": {},
   "outputs": [
    {
     "name": "stdout",
     "output_type": "stream",
     "text": [
      "+---+-----------+----------------------------+--------+------------+------------+------+----------------------------+---------+\n",
      "|id |last_name  |email                       |gender  |department  |start_date  |salary|job_title                   |region_id|\n",
      "+---+-----------+----------------------------+--------+------------+------------+------+----------------------------+---------+\n",
      "|1  |'Kelley'   |'rkelley0@soundcloud.com'   |'Female'|'Computers' |'10/2/2009' |67470 |'Structural Engineer'       |2        |\n",
      "|2  |'Armstrong'|'sarmstrong1@infoseek.co.jp'|'Male'  |'Sports'    |'3/31/2008' |71869 |'Financial Advisor'         |2        |\n",
      "|3  |'Carr'     |'fcarr2@woothemes.com'      |'Male'  |'Automotive'|'7/12/2009' |101768|'Recruiting Manager'        |3        |\n",
      "|4  |'Murray'   |'jmurray3@gov.uk'           |'Female'|'Jewelery'  |'12/25/2014'|96897 |'Desktop Support Technician'|3        |\n",
      "|5  |'Ellis'    |'jellis4@sciencedirect.com' |'Female'|'Grocery'   |'9/19/2002' |63702 |'Software Engineer III'     |7        |\n",
      "+---+-----------+----------------------------+--------+------------+------------+------+----------------------------+---------+\n",
      "only showing top 5 rows\n",
      "\n"
     ]
    }
   ],
   "source": [
    "emp_df.show(5, truncate=False)"
   ]
  },
  {
   "cell_type": "code",
   "execution_count": 5,
   "id": "1f92280b",
   "metadata": {},
   "outputs": [
    {
     "data": {
      "text/plain": [
       "1000"
      ]
     },
     "execution_count": 5,
     "metadata": {},
     "output_type": "execute_result"
    }
   ],
   "source": [
    "emp_df.count()"
   ]
  },
  {
   "cell_type": "code",
   "execution_count": 6,
   "id": "3cb481de",
   "metadata": {},
   "outputs": [
    {
     "name": "stdout",
     "output_type": "stream",
     "text": [
      "+-------+-----------------+----------+------------------+-----------------+\n",
      "|summary|               id|start_date|            salary|        region_id|\n",
      "+-------+-----------------+----------+------------------+-----------------+\n",
      "|  count|             1000|      1000|              1000|             1000|\n",
      "|   mean|            500.5|      null|         97331.223|            3.971|\n",
      "| stddev|288.8194360957494|      null|31753.109191299463|2.017977014544822|\n",
      "|    min|                1|'1/1/2004'|             40138|                1|\n",
      "|    max|             1000|'9/9/2014'|            149929|                7|\n",
      "+-------+-----------------+----------+------------------+-----------------+\n",
      "\n"
     ]
    }
   ],
   "source": [
    "emp_df.describe(\"id\", \"start_date\", \"salary\", \"region_id\").show()"
   ]
  },
  {
   "cell_type": "code",
   "execution_count": 7,
   "id": "39e7874f",
   "metadata": {},
   "outputs": [
    {
     "data": {
      "text/plain": [
       "98"
      ]
     },
     "execution_count": 7,
     "metadata": {},
     "output_type": "execute_result"
    }
   ],
   "source": [
    "sample_df = emp_df.sample(False, 0.1)\n",
    "sample_df.count()"
   ]
  },
  {
   "cell_type": "code",
   "execution_count": 8,
   "id": "e437b6cc",
   "metadata": {},
   "outputs": [
    {
     "data": {
      "text/plain": [
       "478"
      ]
     },
     "execution_count": 8,
     "metadata": {},
     "output_type": "execute_result"
    }
   ],
   "source": [
    "emp_df.filter(\"salary >= 100000\").count()"
   ]
  },
  {
   "cell_type": "code",
   "execution_count": 9,
   "id": "c1fa0012",
   "metadata": {},
   "outputs": [
    {
     "name": "stdout",
     "output_type": "stream",
     "text": [
      "+---------+------+\n",
      "|last_name|salary|\n",
      "+---------+------+\n",
      "|'Stanley'|149929|\n",
      "| 'Greene'|149835|\n",
      "|'Morales'|149598|\n",
      "|   'King'|149597|\n",
      "|  'Allen'|149586|\n",
      "+---------+------+\n",
      "only showing top 5 rows\n",
      "\n"
     ]
    }
   ],
   "source": [
    "emp_df.filter(\"salary >= 100000\").orderBy(\"salary\", ascending=False).select(\"last_name\", \"salary\").show(5)"
   ]
  },
  {
   "cell_type": "markdown",
   "id": "bbd702ef",
   "metadata": {},
   "source": [
    "# Preprocessing"
   ]
  },
  {
   "cell_type": "markdown",
   "id": "a1b2e7ae",
   "metadata": {},
   "source": [
    "## Numeric Preprocessing"
   ]
  },
  {
   "cell_type": "markdown",
   "id": "9f6abf70",
   "metadata": {},
   "source": [
    "### Normalizing numeric data"
   ]
  },
  {
   "cell_type": "markdown",
   "id": "106c919d",
   "metadata": {},
   "source": [
    "Normalizing is the process of mapping numeric data from its original range into a range from zero (0) to one (1). This is important, because we may have multiple attributes with different ranges. For example we have salaries, which might have ranges in the tens, and hundreds of thousands. Then, we might have another column, for example, Miles commuted to work, which might be on the order of tens of miles. The reason we want to normalize those attributes in a zero to one range is so that when algorithms that use distance as a measure, they don't weight some attributes, like salary, orders of magnitude, more heavily than others, like miles commuted to work."
   ]
  },
  {
   "cell_type": "code",
   "execution_count": 10,
   "id": "bceed63f",
   "metadata": {},
   "outputs": [],
   "source": [
    "from pyspark.ml.feature import MinMaxScaler\n",
    "from pyspark.ml.linalg import Vectors"
   ]
  },
  {
   "cell_type": "code",
   "execution_count": 11,
   "id": "c1c03491",
   "metadata": {},
   "outputs": [
    {
     "name": "stdout",
     "output_type": "stream",
     "text": [
      "root\n",
      " |-- id: long (nullable = true)\n",
      " |-- features: vector (nullable = true)\n",
      "\n"
     ]
    }
   ],
   "source": [
    "features_df = spark.createDataFrame([\n",
    "    (1, Vectors.dense([10.0, 10000.0, 1.0]),),\n",
    "    (2, Vectors.dense([20.0, 30000.0, 2.0]),),\n",
    "    (3, Vectors.dense([30.0, 40000.0, 3.0]),)],\n",
    "    [\"id\", \"features\"])\n",
    "features_df.printSchema()"
   ]
  },
  {
   "cell_type": "markdown",
   "id": "230ae6fa",
   "metadata": {},
   "source": [
    "Each row of the DataFrame will include an identifier and a list of numeric values. The first record will have an ID of one, and then it will have a set of features which we create as a dense vector, and that vector will include the number 10, 10,000, and 1. And we'll specify the columns for the DataFrame; id and features. "
   ]
  },
  {
   "cell_type": "code",
   "execution_count": 12,
   "id": "877bf2bd",
   "metadata": {},
   "outputs": [
    {
     "name": "stdout",
     "output_type": "stream",
     "text": [
      "+---+------------------+\n",
      "|id |features          |\n",
      "+---+------------------+\n",
      "|1  |[10.0,10000.0,1.0]|\n",
      "|2  |[20.0,30000.0,2.0]|\n",
      "|3  |[30.0,40000.0,3.0]|\n",
      "+---+------------------+\n",
      "\n"
     ]
    }
   ],
   "source": [
    "features_df.show(truncate=False)"
   ]
  },
  {
   "cell_type": "markdown",
   "id": "88e8bbaf",
   "metadata": {},
   "source": [
    "We are going to create a scaler object called \"feature_scaler\", to call the MinMaxScaler function, and to tell it that we want to transfer the input column, which is named \"features\", and we want that scaled version of that input column to go to a new output column, which is called \"sfeatures\", which is short for scaled features. "
   ]
  },
  {
   "cell_type": "markdown",
   "id": "8a1c77de",
   "metadata": {},
   "source": [
    "This object will transform the contents of feature vectors into a scaled version, and save it into the \"sfeatures\" column. Then we'll fit the model to the data using the fit function. To do that, we'll create an object called \"smodel\", and that'll be set equal to the feature_scaler, and we'll apply the fit function, and the data we're going to fit is what's loaded into our features dataframe. "
   ]
  },
  {
   "cell_type": "markdown",
   "id": "fb335e08",
   "metadata": {},
   "source": [
    "The next thing we want to do is we want to call the transform function, and what this will do is it will apply the transformation and actually create the scaled dataset. So to do this, I'm going to create a new DataFrame, called sfeatures, and this is going to be built using the smodel we just defined, and we're going to transform using the features DataFrame. \n",
    "So what we've done is we've created a MinMaxScaler, we fit our data to it, and then we used the transform to create a new scaled_feature set."
   ]
  },
  {
   "cell_type": "code",
   "execution_count": 13,
   "id": "0e9a16d9",
   "metadata": {},
   "outputs": [],
   "source": [
    "feature_scaler = MinMaxScaler(inputCol=\"features\", outputCol=\"sfeatures\")\n",
    "smodel = feature_scaler.fit(features_df)\n",
    "sfeatures_df = smodel.transform(features_df)"
   ]
  },
  {
   "cell_type": "code",
   "execution_count": 14,
   "id": "f487e3c1",
   "metadata": {},
   "outputs": [
    {
     "data": {
      "text/plain": [
       "[Row(id=1, features=DenseVector([10.0, 10000.0, 1.0]), sfeatures=SparseVector(3, {}))]"
      ]
     },
     "execution_count": 14,
     "metadata": {},
     "output_type": "execute_result"
    }
   ],
   "source": [
    "sfeatures_df.take(1)"
   ]
  },
  {
   "cell_type": "markdown",
   "id": "71fda633",
   "metadata": {},
   "source": [
    "In addition to the ID and features that we had in our original DataFrame, we now have a new column, called \"sfeatures\", which has a dense vector, which is scaled, and it's in the zero to one range. "
   ]
  },
  {
   "cell_type": "code",
   "execution_count": 15,
   "id": "d4fd155f",
   "metadata": {},
   "outputs": [
    {
     "name": "stdout",
     "output_type": "stream",
     "text": [
      "+------------------+----------------------------+\n",
      "|features          |sfeatures                   |\n",
      "+------------------+----------------------------+\n",
      "|[10.0,10000.0,1.0]|(3,[],[])                   |\n",
      "|[20.0,30000.0,2.0]|[0.5,0.6666666666666667,0.5]|\n",
      "|[30.0,40000.0,3.0]|[1.0,1.0,1.0]               |\n",
      "+------------------+----------------------------+\n",
      "\n"
     ]
    }
   ],
   "source": [
    "sfeatures_df.select(\"features\", \"sfeatures\").show(truncate=False)"
   ]
  },
  {
   "cell_type": "markdown",
   "id": "c83cc752",
   "metadata": {},
   "source": [
    "The scaled data is in the range from zero to one, and the larger the original value, the larger the scaled value. The smallest value in each column of the feature vector is mapped to zero, and the largest value is mapped to one. Values in between the minimum and maximum are scaled proportionally between zero and one."
   ]
  },
  {
   "cell_type": "markdown",
   "id": "e6727d7f",
   "metadata": {},
   "source": [
    "### Standardizing numeric data"
   ]
  },
  {
   "cell_type": "markdown",
   "id": "63d48693",
   "metadata": {},
   "source": [
    "In addition to normalizing, there's another operation that's often done to numeric data, and that's called standardizing. And basically the idea here is, we may have data that is pretty close to a bell-shaped curve, or normally distributed, but maybe not exactly. With standardization, what we can do is map the data into a range of -1 to +1 with a mean of 0. "
   ]
  },
  {
   "cell_type": "markdown",
   "id": "6585802b",
   "metadata": {},
   "source": [
    "We do this because some machine learning algorithms, such as support vector machines, and some linear models work better when all of the features have a unit variance and a zero mean. So, what happens is when we apply standardization, our data is slightly shifted in its shape so that it becomes more normalized, or more like a bell curve. "
   ]
  },
  {
   "cell_type": "code",
   "execution_count": 16,
   "id": "4760c9c7",
   "metadata": {},
   "outputs": [],
   "source": [
    "from pyspark.ml.feature import StandardScaler"
   ]
  },
  {
   "cell_type": "markdown",
   "id": "60178e03",
   "metadata": {},
   "source": [
    "Now let's create a scaler object. We want this to be standardized to a normal distribution, so we're going to say withStd, for standardization, to true. And a mean around zero."
   ]
  },
  {
   "cell_type": "code",
   "execution_count": 17,
   "id": "df3479ce",
   "metadata": {},
   "outputs": [],
   "source": [
    "feature_stand_scaler = StandardScaler(inputCol=\"features\", outputCol=\"sfeatures\", withStd=True, withMean=True)"
   ]
  },
  {
   "cell_type": "markdown",
   "id": "740f9bcb",
   "metadata": {},
   "source": [
    "So what this is going to do is use the model we just built, and it's going to transform the data I'm passing in. And the data we want to transform is the features DataFrame."
   ]
  },
  {
   "cell_type": "code",
   "execution_count": 18,
   "id": "7379e2a2",
   "metadata": {},
   "outputs": [],
   "source": [
    "stand_smodel = feature_stand_scaler.fit(features_df)"
   ]
  },
  {
   "cell_type": "code",
   "execution_count": 19,
   "id": "1fbdf5ae",
   "metadata": {},
   "outputs": [],
   "source": [
    "stand_sfeatures_df = stand_smodel.transform(features_df)"
   ]
  },
  {
   "cell_type": "markdown",
   "id": "43253c64",
   "metadata": {},
   "source": [
    "We've created a DataFrame that has the features with the original data, as well as another column which has the features mapped to a normal distribution, with a mean of zero and a minimum range of about negative one and a maximum of one."
   ]
  },
  {
   "cell_type": "code",
   "execution_count": 20,
   "id": "4c9471a3",
   "metadata": {},
   "outputs": [
    {
     "data": {
      "text/plain": [
       "[Row(id=1, features=DenseVector([10.0, 10000.0, 1.0]), sfeatures=DenseVector([-1.0, -1.0911, -1.0]))]"
      ]
     },
     "execution_count": 20,
     "metadata": {},
     "output_type": "execute_result"
    }
   ],
   "source": [
    "stand_sfeatures_df.take(1)"
   ]
  },
  {
   "cell_type": "code",
   "execution_count": 21,
   "id": "abc77104",
   "metadata": {},
   "outputs": [
    {
     "name": "stdout",
     "output_type": "stream",
     "text": [
      "+---+------------------+------------------------------+\n",
      "|id |features          |sfeatures                     |\n",
      "+---+------------------+------------------------------+\n",
      "|1  |[10.0,10000.0,1.0]|[-1.0,-1.091089451179962,-1.0]|\n",
      "|2  |[20.0,30000.0,2.0]|[0.0,0.2182178902359923,0.0]  |\n",
      "|3  |[30.0,40000.0,3.0]|[1.0,0.8728715609439696,1.0]  |\n",
      "+---+------------------+------------------------------+\n",
      "\n"
     ]
    }
   ],
   "source": [
    "stand_sfeatures_df.show(truncate=False)"
   ]
  },
  {
   "cell_type": "markdown",
   "id": "0e2a5703",
   "metadata": {},
   "source": [
    "### Bucketizing numeric data"
   ]
  },
  {
   "cell_type": "markdown",
   "id": "870f4ca7",
   "metadata": {},
   "source": [
    "Now let's take a look at how we can organize continuous ranges of data into buckets or partitions."
   ]
  },
  {
   "cell_type": "code",
   "execution_count": 22,
   "id": "c27ba543",
   "metadata": {},
   "outputs": [],
   "source": [
    "from pyspark.ml.feature import Bucketizer"
   ]
  },
  {
   "cell_type": "markdown",
   "id": "93321da3",
   "metadata": {},
   "source": [
    "Bucketizer allows us to group data based on boundaries, and so we need to provide a list of boundaries for Bucketizer to work with. So we call those boundaries \"splits\". And we're going to provide a list of what these splits are. Now at the lower end, we would like anything starting at negative infinity to go in the first bucket. From negative infinity up to -10 will be one bucket and then from -10 to 0 will be another bucket from 0 to 10 will be my next bucket and everything that's greater than 10 and up to positive infinity, will go in the last bucket."
   ]
  },
  {
   "cell_type": "code",
   "execution_count": 23,
   "id": "f44684e0",
   "metadata": {},
   "outputs": [],
   "source": [
    "splits = [-float(\"inf\"), -10.0, 0.0, 10.0, float(\"inf\")]"
   ]
  },
  {
   "cell_type": "markdown",
   "id": "82a161aa",
   "metadata": {},
   "source": [
    "What we're going to do here is create a list, but this is going to be a list of rows:"
   ]
  },
  {
   "cell_type": "code",
   "execution_count": 24,
   "id": "a5f9597e",
   "metadata": {},
   "outputs": [],
   "source": [
    "b_data = [(-800.0,), (-10.5,), (-1.7,), (0.0,), (8.2,), (90.1,)]"
   ]
  },
  {
   "cell_type": "code",
   "execution_count": 25,
   "id": "06e26d35",
   "metadata": {},
   "outputs": [],
   "source": [
    "b_df = spark.createDataFrame(b_data, [\"features\"])"
   ]
  },
  {
   "cell_type": "code",
   "execution_count": 26,
   "id": "71d793c7",
   "metadata": {},
   "outputs": [
    {
     "name": "stdout",
     "output_type": "stream",
     "text": [
      "+--------+\n",
      "|features|\n",
      "+--------+\n",
      "|  -800.0|\n",
      "|   -10.5|\n",
      "|    -1.7|\n",
      "|     0.0|\n",
      "|     8.2|\n",
      "|    90.1|\n",
      "+--------+\n",
      "\n"
     ]
    }
   ],
   "source": [
    "b_df.show()"
   ]
  },
  {
   "cell_type": "code",
   "execution_count": 27,
   "id": "39083e67",
   "metadata": {},
   "outputs": [],
   "source": [
    "bucketizer = Bucketizer(splits=splits, inputCol=\"features\", outputCol=\"bfeatures\")"
   ]
  },
  {
   "cell_type": "code",
   "execution_count": 28,
   "id": "dbe48793",
   "metadata": {},
   "outputs": [],
   "source": [
    "bucketed_df = bucketizer.transform(b_df)"
   ]
  },
  {
   "cell_type": "code",
   "execution_count": 29,
   "id": "af6210ce",
   "metadata": {},
   "outputs": [
    {
     "name": "stdout",
     "output_type": "stream",
     "text": [
      "+--------+---------+\n",
      "|features|bfeatures|\n",
      "+--------+---------+\n",
      "|  -800.0|      0.0|\n",
      "|   -10.5|      0.0|\n",
      "|    -1.7|      1.0|\n",
      "|     0.0|      2.0|\n",
      "|     8.2|      2.0|\n",
      "|    90.1|      3.0|\n",
      "+--------+---------+\n",
      "\n"
     ]
    }
   ],
   "source": [
    "bucketed_df.show()"
   ]
  },
  {
   "cell_type": "markdown",
   "id": "133b9d46",
   "metadata": {},
   "source": [
    "Why didn't we have to do a fit? That's because Bucketizing is fairly simple and my splits is the list of the boundaries we want for each bucket, so there's no need to fit data, so we can skip the normal fitting operation and go right to the transformation."
   ]
  },
  {
   "cell_type": "markdown",
   "id": "21649160",
   "metadata": {},
   "source": [
    "## Text Preprocessing"
   ]
  },
  {
   "cell_type": "markdown",
   "id": "775d3706",
   "metadata": {},
   "source": [
    "Now let's shift our focus to working with text data. And in this DataFrame we'll have three rows - sentences. "
   ]
  },
  {
   "cell_type": "code",
   "execution_count": 30,
   "id": "3c3c9095",
   "metadata": {},
   "outputs": [],
   "source": [
    "sentences_df = spark.createDataFrame([\n",
    "    (1, \"This is an introduction to Spark MLlib\"),\n",
    "    (2, \"MLlib includes libraries for classification and regression\"),\n",
    "    (3, \"It also contains supporting tools for pipelines\")],\n",
    "    [\"id\", \"sentence\"])"
   ]
  },
  {
   "cell_type": "code",
   "execution_count": 31,
   "id": "e81befd7",
   "metadata": {},
   "outputs": [
    {
     "name": "stdout",
     "output_type": "stream",
     "text": [
      "+---+----------------------------------------------------------+\n",
      "|id |sentence                                                  |\n",
      "+---+----------------------------------------------------------+\n",
      "|1  |This is an introduction to Spark MLlib                    |\n",
      "|2  |MLlib includes libraries for classification and regression|\n",
      "|3  |It also contains supporting tools for pipelines           |\n",
      "+---+----------------------------------------------------------+\n",
      "\n"
     ]
    }
   ],
   "source": [
    "sentences_df.show(truncate=False)"
   ]
  },
  {
   "cell_type": "markdown",
   "id": "95d67d81",
   "metadata": {},
   "source": [
    "### Tokenizing text data"
   ]
  },
  {
   "cell_type": "code",
   "execution_count": 32,
   "id": "ef032c7d",
   "metadata": {},
   "outputs": [],
   "source": [
    "from pyspark.ml.feature import Tokenizer"
   ]
  },
  {
   "cell_type": "code",
   "execution_count": 33,
   "id": "caf93e09",
   "metadata": {},
   "outputs": [],
   "source": [
    "sent_token = Tokenizer(inputCol=\"sentence\", outputCol=\"words\")"
   ]
  },
  {
   "cell_type": "code",
   "execution_count": 34,
   "id": "3b2039dd",
   "metadata": {},
   "outputs": [],
   "source": [
    "sent_tokenized_df = sent_token.transform(sentences_df)"
   ]
  },
  {
   "cell_type": "markdown",
   "id": "2a4fffe0",
   "metadata": {},
   "source": [
    "We now have a third column \"words\", in addition to the ID and the sentences. And the words column contains lists of words that have been broken up in the ways you would normally expect a regular expression pattern matching to break up a sentence into words. So based on white space, punctuation, etc. So this is how we can use Tokenizer to split up strings into words."
   ]
  },
  {
   "cell_type": "code",
   "execution_count": 35,
   "id": "37d670d7",
   "metadata": {},
   "outputs": [
    {
     "name": "stdout",
     "output_type": "stream",
     "text": [
      "+---+----------------------------------------------------------+------------------------------------------------------------------+\n",
      "|id |sentence                                                  |words                                                             |\n",
      "+---+----------------------------------------------------------+------------------------------------------------------------------+\n",
      "|1  |This is an introduction to Spark MLlib                    |[this, is, an, introduction, to, spark, mllib]                    |\n",
      "|2  |MLlib includes libraries for classification and regression|[mllib, includes, libraries, for, classification, and, regression]|\n",
      "|3  |It also contains supporting tools for pipelines           |[it, also, contains, supporting, tools, for, pipelines]           |\n",
      "+---+----------------------------------------------------------+------------------------------------------------------------------+\n",
      "\n"
     ]
    }
   ],
   "source": [
    "sent_tokenized_df.show(truncate=False)"
   ]
  },
  {
   "cell_type": "markdown",
   "id": "90d4dcc1",
   "metadata": {},
   "source": [
    "We don't have to call the fit function, because we're not actually fitting data. The Tokenizer already knows how to do its job, which is basically how to split up strings into separate words. We can go right from creating a Tokenizer object, to the transformation process. There's no fit operation needed."
   ]
  },
  {
   "cell_type": "markdown",
   "id": "665ba89b",
   "metadata": {},
   "source": [
    "### TF-IDF (Term Frequency-Inverse Document Frequency)"
   ]
  },
  {
   "cell_type": "code",
   "execution_count": 36,
   "id": "e4161a2b",
   "metadata": {},
   "outputs": [],
   "source": [
    "from pyspark.ml.feature import HashingTF, IDF"
   ]
  },
  {
   "cell_type": "markdown",
   "id": "9a81c35e",
   "metadata": {},
   "source": [
    "So again we start with some text. For example, here's a sentence. And we tokenize it so we get a list of words. And then we count the number of times a particular word appears. So for example normalizing appears only once, so it has a count of one. The word to shows up twice, so it has a count of two. And we go through and we do this for all of the documents in our corpus. And corpus is just another name for a collection of documents. And we count up how often a term appears across all of the documents."
   ]
  },
  {
   "cell_type": "code",
   "execution_count": 37,
   "id": "6ed5ae0c",
   "metadata": {},
   "outputs": [
    {
     "data": {
      "text/plain": [
       "[Row(id=1, sentence='This is an introduction to Spark MLlib')]"
      ]
     },
     "execution_count": 37,
     "metadata": {},
     "output_type": "execute_result"
    }
   ],
   "source": [
    "sentences_df.take(1)"
   ]
  },
  {
   "cell_type": "code",
   "execution_count": 38,
   "id": "6487c303",
   "metadata": {},
   "outputs": [
    {
     "data": {
      "text/plain": [
       "[Row(id=1, sentence='This is an introduction to Spark MLlib', words=['this', 'is', 'an', 'introduction', 'to', 'spark', 'mllib'])]"
      ]
     },
     "execution_count": 38,
     "metadata": {},
     "output_type": "execute_result"
    }
   ],
   "source": [
    "sent_tokenized_df.take(1)"
   ]
  },
  {
   "cell_type": "code",
   "execution_count": 39,
   "id": "115dd921",
   "metadata": {},
   "outputs": [],
   "source": [
    "hashingTF = HashingTF(inputCol=\"words\", outputCol=\"rawFeatures\", numFeatures=20)"
   ]
  },
  {
   "cell_type": "code",
   "execution_count": 40,
   "id": "d6d418e5",
   "metadata": {},
   "outputs": [],
   "source": [
    "sent_hfTF_df = hashingTF.transform(sent_tokenized_df)"
   ]
  },
  {
   "cell_type": "code",
   "execution_count": 41,
   "id": "a85a31fa",
   "metadata": {},
   "outputs": [
    {
     "data": {
      "text/plain": [
       "[Row(id=1, sentence='This is an introduction to Spark MLlib', words=['this', 'is', 'an', 'introduction', 'to', 'spark', 'mllib'], rawFeatures=SparseVector(20, {6: 2.0, 8: 1.0, 9: 1.0, 10: 1.0, 13: 1.0, 15: 1.0}))]"
      ]
     },
     "execution_count": 41,
     "metadata": {},
     "output_type": "execute_result"
    }
   ],
   "source": [
    "sent_hfTF_df.take(1)"
   ]
  },
  {
   "cell_type": "code",
   "execution_count": 42,
   "id": "c117d533",
   "metadata": {},
   "outputs": [
    {
     "name": "stdout",
     "output_type": "stream",
     "text": [
      "+---+--------------------+--------------------+--------------------+\n",
      "| id|            sentence|               words|         rawFeatures|\n",
      "+---+--------------------+--------------------+--------------------+\n",
      "|  1|This is an introd...|[this, is, an, in...|(20,[6,8,9,10,13,...|\n",
      "|  2|MLlib includes li...|[mllib, includes,...|(20,[2,4,11,12,15...|\n",
      "|  3|It also contains ...|[it, also, contai...|(20,[1,4,6,8,11,1...|\n",
      "+---+--------------------+--------------------+--------------------+\n",
      "\n"
     ]
    }
   ],
   "source": [
    "sent_hfTF_df.show()"
   ]
  },
  {
   "cell_type": "code",
   "execution_count": 43,
   "id": "5723d42a",
   "metadata": {},
   "outputs": [],
   "source": [
    "idf = IDF(inputCol=\"rawFeatures\", outputCol=\"idf_features\")"
   ]
  },
  {
   "cell_type": "code",
   "execution_count": 44,
   "id": "a948188c",
   "metadata": {},
   "outputs": [],
   "source": [
    "idfModel = idf.fit(sent_hfTF_df)"
   ]
  },
  {
   "cell_type": "code",
   "execution_count": 45,
   "id": "ec78cabe",
   "metadata": {},
   "outputs": [],
   "source": [
    "tfidf_df = idfModel.transform(sent_hfTF_df)"
   ]
  },
  {
   "cell_type": "code",
   "execution_count": 46,
   "id": "51946457",
   "metadata": {},
   "outputs": [
    {
     "data": {
      "text/plain": [
       "[Row(id=1, sentence='This is an introduction to Spark MLlib', words=['this', 'is', 'an', 'introduction', 'to', 'spark', 'mllib'], rawFeatures=SparseVector(20, {6: 2.0, 8: 1.0, 9: 1.0, 10: 1.0, 13: 1.0, 15: 1.0}), idf_features=SparseVector(20, {6: 0.5754, 8: 0.2877, 9: 0.6931, 10: 0.6931, 13: 0.6931, 15: 0.2877}))]"
      ]
     },
     "execution_count": 46,
     "metadata": {},
     "output_type": "execute_result"
    }
   ],
   "source": [
    "tfidf_df.take(1)"
   ]
  },
  {
   "cell_type": "code",
   "execution_count": 47,
   "id": "dcaa60ba",
   "metadata": {},
   "outputs": [
    {
     "name": "stdout",
     "output_type": "stream",
     "text": [
      "+---+--------------------+--------------------+--------------------+--------------------+\n",
      "| id|            sentence|               words|         rawFeatures|        idf_features|\n",
      "+---+--------------------+--------------------+--------------------+--------------------+\n",
      "|  1|This is an introd...|[this, is, an, in...|(20,[6,8,9,10,13,...|(20,[6,8,9,10,13,...|\n",
      "|  2|MLlib includes li...|[mllib, includes,...|(20,[2,4,11,12,15...|(20,[2,4,11,12,15...|\n",
      "|  3|It also contains ...|[it, also, contai...|(20,[1,4,6,8,11,1...|(20,[1,4,6,8,11,1...|\n",
      "+---+--------------------+--------------------+--------------------+--------------------+\n",
      "\n"
     ]
    }
   ],
   "source": [
    "tfidf_df.show()"
   ]
  }
 ],
 "metadata": {
  "kernelspec": {
   "display_name": "Python 3 (ipykernel)",
   "language": "python",
   "name": "python3"
  },
  "language_info": {
   "codemirror_mode": {
    "name": "ipython",
    "version": 3
   },
   "file_extension": ".py",
   "mimetype": "text/x-python",
   "name": "python",
   "nbconvert_exporter": "python",
   "pygments_lexer": "ipython3",
   "version": "3.9.12"
  }
 },
 "nbformat": 4,
 "nbformat_minor": 5
}
